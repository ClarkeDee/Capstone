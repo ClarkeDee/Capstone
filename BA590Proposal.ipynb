{
 "cells": [
  {
   "cell_type": "markdown",
   "metadata": {},
   "source": [
    "### <em> <center>Utilizing Decision Trees to better impact Victims of Domestic Violence</center> </em></strong>\n",
    "### <center>Capstone Project Proposal</center>\n",
    "### <center>BA590 Capstone: Business Analytics Applications</center>\n",
    "\n",
    "### <center>Diandre Clarke</center>\n",
    "### <center>Dolan School of Business, Fairfield University</center>\n",
    "### <center>Summer 2019</center>\n",
    "\n",
    "### <center>Faculty Advisor: Dr. Jie Tao</center>\n",
    "### <center>Domain Subject Expert: Shasta E. Henderson, MD</center>\n"
   ]
  },
  {
   "cell_type": "markdown",
   "metadata": {},
   "source": [
    "# Table of Contents\n",
    "1. [Executive Summary](#executivesummary)\n",
    "2. [Background/ Motivation](#paragraph1)\n",
    "3. [Problem Statement](#problemstatement)\n",
    "    1. [Objectives](#subparagraph1)\n",
    "4. [Resources](#paragraph1)\n",
    "    1. [Software](#subparagraph1)\n",
    "5. [System Design](#paragraph1)\n",
    "  1. [Victims' Decision Tree](#subparagraph1)\n",
    "  2. [System Walkthrough](#subparagraph2)\n",
    "6. [Modeling](#paragraph1)\n",
    "  1. [SQL Queries-Application](#subparagraph2)\n",
    "7. [Interpretation](#paragraph1)\n"
   ]
  },
  {
   "cell_type": "markdown",
   "metadata": {},
   "source": [
    "# 1. Executive Summary <a name=\"executivesummary\"></a>\n",
    " The Jesuit values I learned at Fairfield University allowed me to frame real life issues within my coursework. My capstone project explores the health field and the responsibility of nurses who come face to face with victims of domestic violence on a daily basis. The main objective of this project is to not only build awareness of the issue of domestic violence but develop a  . I incorporated lessons from two courses from the MSBA program: Python for Business Analytics and Databases for Business Analytics. \n",
    "\n",
    "### Problem \n",
    "Victims who suffer non-fatal injury from intimate partner violence that seek medical attention are not being properly identified or referred to the right resources. By utilizing data collected nationwide on intimate partner violence we can enhance the routine assessment for nurses so victims of domestic violence can be identified and referred/recommended to the right treatment program. Additionally those who are still fialed to be indeitfied will be referred to the proper resources.\n",
    "\n",
    "\n",
    "### Methods\n",
    "There is an opportunity to utilize historical data in effort to reduce the chances of  victims being exposed to the same perpetrator and ultimately reduce  domestic violence in general.A classification system (victims in need of treatment decision tree)can aid nurses. This will allow nurses to identify more potential victims of domestic violence and connect them with the right resources for follow ups.The decision tree is a screening algorithm for female patients admitted for non-fatal injuries. The decision tree first identifies whether or not a patient is a  possible victim, not a victim or unknown. Based on which class the patient is identified as : Yes, No or Unknown the tree allows the nurse to identify what type of abuse the Yes Class is. Each abuse type is treated with necessary caution. In the end the decision tree guides nurses to provide the necessary referral method and present patients with the information they may need. \n",
    "\n",
    "*The assessment is based on the following*: \n",
    " - Patient's significant other is not present at the time of the assessment\n",
    " - Patient have not disclosed they are a victim of any kind\n",
    "\n",
    "### Data \n",
    "My main data sources are: Center for Disease Control, Partnership Against Domestic Violence and Prevention and Bureau Of Jusice Statistics.The Bureau of Justice Statistics' (BJS) National Crime Victimization Survey (NCVS) is the nation's primary source of information on criminal victimization. \n",
    "\n",
    "### Expected Results\n",
    "Victims that were not idenitfied in the prescreening processs have an equal chance of being identified in Part 2 of the assessment. Part 2 of the assessment evaluates patient experience with the 4 different kind of abuses. Initllay a patient is reluctant to disclose any information or can be miseducated about what is and isn't okay in a healthy relationship. MOst importantly, I expect the data to show no correlation between identified victims and the following characteristics: age and race/ethnicity."
   ]
  },
  {
   "cell_type": "markdown",
   "metadata": {},
   "source": [
    "# 2. Motivation\n",
    "As a survivor of **intimate partner violence , commonly referred to as domestic violence** every year I make it my mission to voice my experience  to others in hopes that by educating the public we become one step closer to addressing the issue of domestic violence (DV). Many victims of DV do not report it therefore the data collected on DV does not accurately represent the population as a whole. For DV victims who do report their experience, they have a better chance of receiving proper treatment. The first time I was a victim I never reported it however the second time I was a victim , the policy brought me to the Emergency room. Although I couldn't physically talk at the time due to my injury, the nurse asked me several questions to assess my ‘situation’. After being released from the hospital I did not receive any follow up call from the hospital, or any information for DV outreach programs near me. I seeked counseling on my own. Years later when I visited the doctor for a routine check up  I was asked questions such as : whether or not I’ve ever been harmed, abused, etc. These questions made me reflect on my previous abusive relationship.  I answered the questions in a way that would identify me as a possble victim. I still did not receive any information. After enrolling myself into therapy I was diagnosed with PTSD, my trauma had caught up to me. \n",
    "\n",
    " Today nurses are considered \"natural leaders among health care professionals to address domestic violence” (futurewithoutviolence.org). By partnering with nurses there’s a better chance of reducing repeat victims , potential victims and the severity of the after effect of being abused. According to the National Coalition Against Domstic Violence , Intimate partner violence accounts for 15% of all violent crime.Women between the ages of 18-24 are most commonly abused by an intimate partnerAdolescents are considered most at risk for encountering domestic and/or relationship violence, “Nearly 1.5 million high school students nationwide experience physical abuse from a dating partner in a single year” (Centers for Disease Control and Prevention). \n"
   ]
  },
  {
   "cell_type": "markdown",
   "metadata": {},
   "source": [
    "# 3.Problem Statement\n",
    "\n",
    "The primary objective is to treat all female patients admitted with non-fatal injury as potential victims.  Victims are identified through a presreening assessment and abuse type assessment.The decision tree aids in assigning the more proper follow up method with each female patient.  \n",
    "\n",
    "\n",
    "## 3.1 Objectives: \n",
    "1. Identify if there is a higher number of reports for a certain age group or race/ethnicity\n",
    "\n",
    "2. Identify victims as early as possible in hopes of  reducing exposure to risks of enegaing in rsky behavior. Victims are more likely to engage in risky sexual behavior, use harmful substances (like tobacco, alcohol, and other drugs), engage in unhealthy dieting behaviors, and experience depression and anxiety. \n",
    "\n",
    "3. Provide a follow up fp each patient based on their needs (class identified). Currently nurses perform routine assessment but there’s no follow up for patients after assessment.\n",
    "\n"
   ]
  },
  {
   "cell_type": "code",
   "execution_count": 245,
   "metadata": {},
   "outputs": [],
   "source": [
    "#import demo data from centers for disease control\n",
    "dd= pd.read_csv( \"lcd - Sheet1.csv\")"
   ]
  },
  {
   "cell_type": "code",
   "execution_count": 246,
   "metadata": {},
   "outputs": [
    {
     "data": {
      "text/html": [
       "<div>\n",
       "<style scoped>\n",
       "    .dataframe tbody tr th:only-of-type {\n",
       "        vertical-align: middle;\n",
       "    }\n",
       "\n",
       "    .dataframe tbody tr th {\n",
       "        vertical-align: top;\n",
       "    }\n",
       "\n",
       "    .dataframe thead th {\n",
       "        text-align: right;\n",
       "    }\n",
       "</style>\n",
       "<table border=\"1\" class=\"dataframe\">\n",
       "  <thead>\n",
       "    <tr style=\"text-align: right;\">\n",
       "      <th></th>\n",
       "      <th>Sex</th>\n",
       "      <th>Race/Ethnicity</th>\n",
       "      <th>Age Group</th>\n",
       "      <th>First Year</th>\n",
       "      <th>Last Year</th>\n",
       "      <th>Age Sort</th>\n",
       "      <th>Rank</th>\n",
       "      <th>records</th>\n",
       "      <th>injuries</th>\n",
       "      <th>stderr</th>\n",
       "      <th>cv</th>\n",
       "      <th>upper</th>\n",
       "      <th>lower</th>\n",
       "      <th>Cause of Injury</th>\n",
       "      <th>inj_text</th>\n",
       "    </tr>\n",
       "  </thead>\n",
       "  <tbody>\n",
       "    <tr>\n",
       "      <th>0</th>\n",
       "      <td>Females</td>\n",
       "      <td>All Races</td>\n",
       "      <td>14-50 yrs</td>\n",
       "      <td>2001</td>\n",
       "      <td>2014</td>\n",
       "      <td>14</td>\n",
       "      <td>1</td>\n",
       "      <td>102684</td>\n",
       "      <td>6.006313e+06</td>\n",
       "      <td>469771.31890</td>\n",
       "      <td>0.078213</td>\n",
       "      <td>6.927065e+06</td>\n",
       "      <td>5.085561e+06</td>\n",
       "      <td>Struck By/Against</td>\n",
       "      <td>6,006,313</td>\n",
       "    </tr>\n",
       "    <tr>\n",
       "      <th>1</th>\n",
       "      <td>Females</td>\n",
       "      <td>All Races</td>\n",
       "      <td>14-50 yrs</td>\n",
       "      <td>2001</td>\n",
       "      <td>2014</td>\n",
       "      <td>14</td>\n",
       "      <td>2</td>\n",
       "      <td>26957</td>\n",
       "      <td>1.733004e+06</td>\n",
       "      <td>138381.67630</td>\n",
       "      <td>0.079851</td>\n",
       "      <td>2.004232e+06</td>\n",
       "      <td>1.461776e+06</td>\n",
       "      <td>Self-harm Poisoning</td>\n",
       "      <td>1,733,004</td>\n",
       "    </tr>\n",
       "    <tr>\n",
       "      <th>2</th>\n",
       "      <td>Females</td>\n",
       "      <td>All Races</td>\n",
       "      <td>14-50 yrs</td>\n",
       "      <td>2001</td>\n",
       "      <td>2014</td>\n",
       "      <td>14</td>\n",
       "      <td>3</td>\n",
       "      <td>12700</td>\n",
       "      <td>6.192476e+05</td>\n",
       "      <td>68256.02884</td>\n",
       "      <td>0.110224</td>\n",
       "      <td>7.530295e+05</td>\n",
       "      <td>4.854658e+05</td>\n",
       "      <td>Sexual Assault</td>\n",
       "      <td>619,248</td>\n",
       "    </tr>\n",
       "    <tr>\n",
       "      <th>3</th>\n",
       "      <td>Females</td>\n",
       "      <td>All Races</td>\n",
       "      <td>14-50 yrs</td>\n",
       "      <td>2001</td>\n",
       "      <td>2014</td>\n",
       "      <td>14</td>\n",
       "      <td>4</td>\n",
       "      <td>9535</td>\n",
       "      <td>5.866245e+05</td>\n",
       "      <td>50916.98483</td>\n",
       "      <td>0.086797</td>\n",
       "      <td>6.864218e+05</td>\n",
       "      <td>4.868272e+05</td>\n",
       "      <td>Self-harm Cut/Pierce</td>\n",
       "      <td>586,624</td>\n",
       "    </tr>\n",
       "    <tr>\n",
       "      <th>4</th>\n",
       "      <td>Females</td>\n",
       "      <td>All Races</td>\n",
       "      <td>14-50 yrs</td>\n",
       "      <td>2001</td>\n",
       "      <td>2014</td>\n",
       "      <td>14</td>\n",
       "      <td>5</td>\n",
       "      <td>8323</td>\n",
       "      <td>4.015747e+05</td>\n",
       "      <td>47832.01496</td>\n",
       "      <td>0.119111</td>\n",
       "      <td>4.953254e+05</td>\n",
       "      <td>3.078239e+05</td>\n",
       "      <td>Self-harm Other Specified</td>\n",
       "      <td>401,575</td>\n",
       "    </tr>\n",
       "  </tbody>\n",
       "</table>\n",
       "</div>"
      ],
      "text/plain": [
       "       Sex Race/Ethnicity  Age Group  First Year  Last Year  Age Sort  Rank  \\\n",
       "0  Females      All Races  14-50 yrs        2001       2014        14     1   \n",
       "1  Females      All Races  14-50 yrs        2001       2014        14     2   \n",
       "2  Females      All Races  14-50 yrs        2001       2014        14     3   \n",
       "3  Females      All Races  14-50 yrs        2001       2014        14     4   \n",
       "4  Females      All Races  14-50 yrs        2001       2014        14     5   \n",
       "\n",
       "   records      injuries        stderr        cv         upper         lower  \\\n",
       "0   102684  6.006313e+06  469771.31890  0.078213  6.927065e+06  5.085561e+06   \n",
       "1    26957  1.733004e+06  138381.67630  0.079851  2.004232e+06  1.461776e+06   \n",
       "2    12700  6.192476e+05   68256.02884  0.110224  7.530295e+05  4.854658e+05   \n",
       "3     9535  5.866245e+05   50916.98483  0.086797  6.864218e+05  4.868272e+05   \n",
       "4     8323  4.015747e+05   47832.01496  0.119111  4.953254e+05  3.078239e+05   \n",
       "\n",
       "             Cause of Injury   inj_text  \n",
       "0          Struck By/Against  6,006,313  \n",
       "1        Self-harm Poisoning  1,733,004  \n",
       "2            Sexual Assault     619,248  \n",
       "3       Self-harm Cut/Pierce    586,624  \n",
       "4  Self-harm Other Specified    401,575  "
      ]
     },
     "execution_count": 246,
     "metadata": {},
     "output_type": "execute_result"
    }
   ],
   "source": [
    "dd.head()"
   ]
  },
  {
   "cell_type": "code",
   "execution_count": 270,
   "metadata": {},
   "outputs": [
    {
     "ename": "SyntaxError",
     "evalue": "invalid syntax (<ipython-input-270-5e1f2693b08b>, line 1)",
     "output_type": "error",
     "traceback": [
      "\u001b[0;36m  File \u001b[0;32m\"<ipython-input-270-5e1f2693b08b>\"\u001b[0;36m, line \u001b[0;32m1\u001b[0m\n\u001b[0;31m    <img src= \"Top 5 Injuries 2014.png\">\u001b[0m\n\u001b[0m    ^\u001b[0m\n\u001b[0;31mSyntaxError\u001b[0m\u001b[0;31m:\u001b[0m invalid syntax\n"
     ]
    }
   ],
   "source": [
    "<img src= \"Top 5 Injuries 2014.png\">"
   ]
  },
  {
   "cell_type": "markdown",
   "metadata": {},
   "source": [
    "# 4. Data Collection"
   ]
  },
  {
   "cell_type": "markdown",
   "metadata": {},
   "source": [
    "## 4.1 Software\n",
    "\n",
    "- Computer Hardware\n",
    "- Excel\n",
    "    - V look up\n",
    "    - Questionnaire recoding\n",
    "- JupyterLab \n",
    "    - Python programming language\n",
    "    - SQL queries"
   ]
  },
  {
   "cell_type": "markdown",
   "metadata": {},
   "source": [
    "# 5. System Design"
   ]
  },
  {
   "cell_type": "markdown",
   "metadata": {},
   "source": [
    "Patients are pre-screened to identify if they are a victim : Yes, No or Unknown. The questions below are asked to the patient in which they can respond : Yes , No  or if they are unsure/refuse to answer . After patient goes through each question the score is assessed at the end invidually then both sections are added together ( the Partner Score and Self Score) to determine if patient is victim = Yes, No, Unknown.\n",
    "\n",
    "Each response is scored accordingly:\n",
    "\n",
    "| Yes  | No| Other|\n",
    "| -----|: ----------|------| \n",
    "| 1  |    0   | -1\n",
    "\n",
    "\n",
    "\n",
    "### Pre Screening Questions:\n",
    "\n",
    "***(Refer to your current/ most recent partner)***\n",
    "\n",
    "## **Does your partner :**\n",
    "\n",
    "- Get extremely jealous or possessive?\n",
    "- Try to control what you do or who you see?\n",
    "- Try to keep you from seeing or talking to family and friends?\n",
    "- Put you down or criticize you?\n",
    "- Threaten to hurt you?\n",
    "\n",
    "***(Refer to yourself)***\n",
    "\n",
    "## **Do You :**\n",
    "\n",
    "- Sometimes feel scared of how your partner will act?\n",
    "- Try not to do anything that would cause conflict or make your partner angry?\n",
    "- Feel like no matter what you do, your partner is never happy with you?\n",
    "- Always do what your partner wants you to do instead of what you want?\n",
    "- Stay with your partner because you are afraid of what your partner would do if you broke up?\n"
   ]
  },
  {
   "cell_type": "markdown",
   "metadata": {},
   "source": [
    "| Partner + Self Score          | Victim Identified|\n",
    "| -------------- |: ----------| \n",
    "| >= 1               |     Yes    |\n",
    "|    = 0           |     No     |\n",
    "|       < 1         |    Unknown|"
   ]
  },
  {
   "cell_type": "markdown",
   "metadata": {},
   "source": [
    "## 5.1 Victims' Decision Tree"
   ]
  },
  {
   "cell_type": "markdown",
   "metadata": {},
   "source": [
    "<img src=\"Project Development Decision Tree(1).png\">"
   ]
  },
  {
   "cell_type": "markdown",
   "metadata": {},
   "source": [
    "### Machine Learning Decision Tree"
   ]
  },
  {
   "cell_type": "code",
   "execution_count": 181,
   "metadata": {},
   "outputs": [],
   "source": [
    "col_names= [ 'patient', 'Age','Partner_ Score','Self_Score','P_S','victim','PH_Score','PY _Score','E _Score','S _Score']"
   ]
  },
  {
   "cell_type": "code",
   "execution_count": 182,
   "metadata": {},
   "outputs": [],
   "source": [
    "#importing first model-survey results\n",
    "m1 = pd.read_csv(\"model - m1.csv\", header= 0, names= col_names)\n",
    "\n",
    "#iporting 2nd model-survey results\n",
    "m2 = pd.read_csv(\"model - m2.csv\", header= 0, names= col_names)\n",
    "\n"
   ]
  },
  {
   "cell_type": "code",
   "execution_count": 183,
   "metadata": {},
   "outputs": [
    {
     "data": {
      "text/html": [
       "<div>\n",
       "<style scoped>\n",
       "    .dataframe tbody tr th:only-of-type {\n",
       "        vertical-align: middle;\n",
       "    }\n",
       "\n",
       "    .dataframe tbody tr th {\n",
       "        vertical-align: top;\n",
       "    }\n",
       "\n",
       "    .dataframe thead th {\n",
       "        text-align: right;\n",
       "    }\n",
       "</style>\n",
       "<table border=\"1\" class=\"dataframe\">\n",
       "  <thead>\n",
       "    <tr style=\"text-align: right;\">\n",
       "      <th></th>\n",
       "      <th>patient</th>\n",
       "      <th>Age</th>\n",
       "      <th>Partner_ Score</th>\n",
       "      <th>Self_Score</th>\n",
       "      <th>P_S</th>\n",
       "      <th>victim</th>\n",
       "      <th>PH_Score</th>\n",
       "      <th>PY _Score</th>\n",
       "      <th>E _Score</th>\n",
       "      <th>S _Score</th>\n",
       "    </tr>\n",
       "  </thead>\n",
       "  <tbody>\n",
       "    <tr>\n",
       "      <th>0</th>\n",
       "      <td>1</td>\n",
       "      <td>35</td>\n",
       "      <td>2</td>\n",
       "      <td>2</td>\n",
       "      <td>4</td>\n",
       "      <td>Yes</td>\n",
       "      <td>5</td>\n",
       "      <td>2</td>\n",
       "      <td>2</td>\n",
       "      <td>0</td>\n",
       "    </tr>\n",
       "    <tr>\n",
       "      <th>1</th>\n",
       "      <td>2</td>\n",
       "      <td>38</td>\n",
       "      <td>0</td>\n",
       "      <td>5</td>\n",
       "      <td>5</td>\n",
       "      <td>Yes</td>\n",
       "      <td>1</td>\n",
       "      <td>6</td>\n",
       "      <td>4</td>\n",
       "      <td>5</td>\n",
       "    </tr>\n",
       "    <tr>\n",
       "      <th>2</th>\n",
       "      <td>3</td>\n",
       "      <td>20</td>\n",
       "      <td>1</td>\n",
       "      <td>1</td>\n",
       "      <td>2</td>\n",
       "      <td>Yes</td>\n",
       "      <td>6</td>\n",
       "      <td>0</td>\n",
       "      <td>0</td>\n",
       "      <td>4</td>\n",
       "    </tr>\n",
       "    <tr>\n",
       "      <th>3</th>\n",
       "      <td>4</td>\n",
       "      <td>16</td>\n",
       "      <td>2</td>\n",
       "      <td>5</td>\n",
       "      <td>7</td>\n",
       "      <td>Yes</td>\n",
       "      <td>2</td>\n",
       "      <td>5</td>\n",
       "      <td>4</td>\n",
       "      <td>4</td>\n",
       "    </tr>\n",
       "    <tr>\n",
       "      <th>4</th>\n",
       "      <td>5</td>\n",
       "      <td>34</td>\n",
       "      <td>5</td>\n",
       "      <td>2</td>\n",
       "      <td>7</td>\n",
       "      <td>Yes</td>\n",
       "      <td>3</td>\n",
       "      <td>4</td>\n",
       "      <td>6</td>\n",
       "      <td>6</td>\n",
       "    </tr>\n",
       "  </tbody>\n",
       "</table>\n",
       "</div>"
      ],
      "text/plain": [
       "   patient  Age  Partner_ Score  Self_Score  P_S victim  PH_Score  PY _Score  \\\n",
       "0        1   35               2           2    4    Yes         5          2   \n",
       "1        2   38               0           5    5    Yes         1          6   \n",
       "2        3   20               1           1    2    Yes         6          0   \n",
       "3        4   16               2           5    7    Yes         2          5   \n",
       "4        5   34               5           2    7    Yes         3          4   \n",
       "\n",
       "   E _Score  S _Score  \n",
       "0         2         0  \n",
       "1         4         5  \n",
       "2         0         4  \n",
       "3         4         4  \n",
       "4         6         6  "
      ]
     },
     "execution_count": 183,
     "metadata": {},
     "output_type": "execute_result"
    }
   ],
   "source": [
    "m1.head()"
   ]
  },
  {
   "cell_type": "code",
   "execution_count": 184,
   "metadata": {},
   "outputs": [
    {
     "data": {
      "text/html": [
       "<div>\n",
       "<style scoped>\n",
       "    .dataframe tbody tr th:only-of-type {\n",
       "        vertical-align: middle;\n",
       "    }\n",
       "\n",
       "    .dataframe tbody tr th {\n",
       "        vertical-align: top;\n",
       "    }\n",
       "\n",
       "    .dataframe thead th {\n",
       "        text-align: right;\n",
       "    }\n",
       "</style>\n",
       "<table border=\"1\" class=\"dataframe\">\n",
       "  <thead>\n",
       "    <tr style=\"text-align: right;\">\n",
       "      <th></th>\n",
       "      <th>patient</th>\n",
       "      <th>Age</th>\n",
       "      <th>Partner_ Score</th>\n",
       "      <th>Self_Score</th>\n",
       "      <th>P_S</th>\n",
       "      <th>victim</th>\n",
       "      <th>PH_Score</th>\n",
       "      <th>PY _Score</th>\n",
       "      <th>E _Score</th>\n",
       "      <th>S _Score</th>\n",
       "    </tr>\n",
       "  </thead>\n",
       "  <tbody>\n",
       "    <tr>\n",
       "      <th>0</th>\n",
       "      <td>100</td>\n",
       "      <td>33</td>\n",
       "      <td>2</td>\n",
       "      <td>5</td>\n",
       "      <td>7</td>\n",
       "      <td>Yes</td>\n",
       "      <td>6</td>\n",
       "      <td>1</td>\n",
       "      <td>-5</td>\n",
       "      <td>-4</td>\n",
       "    </tr>\n",
       "    <tr>\n",
       "      <th>1</th>\n",
       "      <td>101</td>\n",
       "      <td>38</td>\n",
       "      <td>-5</td>\n",
       "      <td>-2</td>\n",
       "      <td>-7</td>\n",
       "      <td>Unknown</td>\n",
       "      <td>-2</td>\n",
       "      <td>0</td>\n",
       "      <td>-1</td>\n",
       "      <td>6</td>\n",
       "    </tr>\n",
       "    <tr>\n",
       "      <th>2</th>\n",
       "      <td>102</td>\n",
       "      <td>40</td>\n",
       "      <td>-5</td>\n",
       "      <td>5</td>\n",
       "      <td>0</td>\n",
       "      <td>No</td>\n",
       "      <td>4</td>\n",
       "      <td>3</td>\n",
       "      <td>6</td>\n",
       "      <td>2</td>\n",
       "    </tr>\n",
       "    <tr>\n",
       "      <th>3</th>\n",
       "      <td>103</td>\n",
       "      <td>42</td>\n",
       "      <td>-2</td>\n",
       "      <td>-2</td>\n",
       "      <td>-4</td>\n",
       "      <td>Unknown</td>\n",
       "      <td>-3</td>\n",
       "      <td>-5</td>\n",
       "      <td>3</td>\n",
       "      <td>4</td>\n",
       "    </tr>\n",
       "    <tr>\n",
       "      <th>4</th>\n",
       "      <td>104</td>\n",
       "      <td>44</td>\n",
       "      <td>-2</td>\n",
       "      <td>0</td>\n",
       "      <td>-2</td>\n",
       "      <td>Unknown</td>\n",
       "      <td>-6</td>\n",
       "      <td>4</td>\n",
       "      <td>-4</td>\n",
       "      <td>-1</td>\n",
       "    </tr>\n",
       "  </tbody>\n",
       "</table>\n",
       "</div>"
      ],
      "text/plain": [
       "   patient  Age  Partner_ Score  Self_Score  P_S   victim  PH_Score  \\\n",
       "0      100   33               2           5    7      Yes         6   \n",
       "1      101   38              -5          -2   -7  Unknown        -2   \n",
       "2      102   40              -5           5    0       No         4   \n",
       "3      103   42              -2          -2   -4  Unknown        -3   \n",
       "4      104   44              -2           0   -2  Unknown        -6   \n",
       "\n",
       "   PY _Score  E _Score  S _Score  \n",
       "0          1        -5        -4  \n",
       "1          0        -1         6  \n",
       "2          3         6         2  \n",
       "3         -5         3         4  \n",
       "4          4        -4        -1  "
      ]
     },
     "execution_count": 184,
     "metadata": {},
     "output_type": "execute_result"
    }
   ],
   "source": [
    "m2.head()"
   ]
  },
  {
   "cell_type": "code",
   "execution_count": 185,
   "metadata": {},
   "outputs": [
    {
     "data": {
      "text/plain": [
       "patient            int64\n",
       "Age                int64\n",
       "Partner_ Score     int64\n",
       "Self_Score         int64\n",
       "P_S                int64\n",
       "victim            object\n",
       "PH_Score           int64\n",
       "PY _Score          int64\n",
       "E _Score           int64\n",
       "S _Score           int64\n",
       "dtype: object"
      ]
     },
     "execution_count": 185,
     "metadata": {},
     "output_type": "execute_result"
    }
   ],
   "source": [
    "#verifying data type for each column\n",
    "m1.dtypes\n"
   ]
  },
  {
   "cell_type": "code",
   "execution_count": 186,
   "metadata": {},
   "outputs": [
    {
     "data": {
      "text/plain": [
       "patient            int64\n",
       "Age                int64\n",
       "Partner_ Score     int64\n",
       "Self_Score         int64\n",
       "P_S                int64\n",
       "victim            object\n",
       "PH_Score           int64\n",
       "PY _Score          int64\n",
       "E _Score           int64\n",
       "S _Score           int64\n",
       "dtype: object"
      ]
     },
     "execution_count": 186,
     "metadata": {},
     "output_type": "execute_result"
    }
   ],
   "source": [
    "#verifying data type for each column\n",
    "m2.dtypes"
   ]
  },
  {
   "cell_type": "code",
   "execution_count": 187,
   "metadata": {},
   "outputs": [
    {
     "data": {
      "text/plain": [
       "patient              int64\n",
       "Age                  int64\n",
       "Partner_ Score       int64\n",
       "Self_Score           int64\n",
       "P_S                  int64\n",
       "victim            category\n",
       "PH_Score             int64\n",
       "PY _Score            int64\n",
       "E _Score             int64\n",
       "S _Score             int64\n",
       "dtype: object"
      ]
     },
     "execution_count": 187,
     "metadata": {},
     "output_type": "execute_result"
    }
   ],
   "source": [
    "#recode victim column\n",
    "#convert victim column from obj to  category for label encoding\n",
    "m1[\"victim\"] = m1[\"victim\"].astype('category')\n",
    "m1.dtypes"
   ]
  },
  {
   "cell_type": "code",
   "execution_count": 188,
   "metadata": {},
   "outputs": [
    {
     "data": {
      "text/plain": [
       "patient              int64\n",
       "Age                  int64\n",
       "Partner_ Score       int64\n",
       "Self_Score           int64\n",
       "P_S                  int64\n",
       "victim            category\n",
       "PH_Score             int64\n",
       "PY _Score            int64\n",
       "E _Score             int64\n",
       "S _Score             int64\n",
       "dtype: object"
      ]
     },
     "execution_count": 188,
     "metadata": {},
     "output_type": "execute_result"
    }
   ],
   "source": [
    "#recode victim column\n",
    "#convert victim column from obj to  category for label encoding\n",
    "m2[\"victim\"] = m2[\"victim\"].astype('category')\n",
    "m2.dtypes"
   ]
  },
  {
   "cell_type": "code",
   "execution_count": 189,
   "metadata": {},
   "outputs": [
    {
     "data": {
      "text/html": [
       "<div>\n",
       "<style scoped>\n",
       "    .dataframe tbody tr th:only-of-type {\n",
       "        vertical-align: middle;\n",
       "    }\n",
       "\n",
       "    .dataframe tbody tr th {\n",
       "        vertical-align: top;\n",
       "    }\n",
       "\n",
       "    .dataframe thead th {\n",
       "        text-align: right;\n",
       "    }\n",
       "</style>\n",
       "<table border=\"1\" class=\"dataframe\">\n",
       "  <thead>\n",
       "    <tr style=\"text-align: right;\">\n",
       "      <th></th>\n",
       "      <th>patient</th>\n",
       "      <th>Age</th>\n",
       "      <th>Partner_ Score</th>\n",
       "      <th>Self_Score</th>\n",
       "      <th>P_S</th>\n",
       "      <th>victim</th>\n",
       "      <th>PH_Score</th>\n",
       "      <th>PY _Score</th>\n",
       "      <th>E _Score</th>\n",
       "      <th>S _Score</th>\n",
       "      <th>victim_cat</th>\n",
       "    </tr>\n",
       "  </thead>\n",
       "  <tbody>\n",
       "    <tr>\n",
       "      <th>0</th>\n",
       "      <td>1</td>\n",
       "      <td>35</td>\n",
       "      <td>2</td>\n",
       "      <td>2</td>\n",
       "      <td>4</td>\n",
       "      <td>Yes</td>\n",
       "      <td>5</td>\n",
       "      <td>2</td>\n",
       "      <td>2</td>\n",
       "      <td>0</td>\n",
       "      <td>2</td>\n",
       "    </tr>\n",
       "    <tr>\n",
       "      <th>1</th>\n",
       "      <td>2</td>\n",
       "      <td>38</td>\n",
       "      <td>0</td>\n",
       "      <td>5</td>\n",
       "      <td>5</td>\n",
       "      <td>Yes</td>\n",
       "      <td>1</td>\n",
       "      <td>6</td>\n",
       "      <td>4</td>\n",
       "      <td>5</td>\n",
       "      <td>2</td>\n",
       "    </tr>\n",
       "    <tr>\n",
       "      <th>2</th>\n",
       "      <td>3</td>\n",
       "      <td>20</td>\n",
       "      <td>1</td>\n",
       "      <td>1</td>\n",
       "      <td>2</td>\n",
       "      <td>Yes</td>\n",
       "      <td>6</td>\n",
       "      <td>0</td>\n",
       "      <td>0</td>\n",
       "      <td>4</td>\n",
       "      <td>2</td>\n",
       "    </tr>\n",
       "    <tr>\n",
       "      <th>3</th>\n",
       "      <td>4</td>\n",
       "      <td>16</td>\n",
       "      <td>2</td>\n",
       "      <td>5</td>\n",
       "      <td>7</td>\n",
       "      <td>Yes</td>\n",
       "      <td>2</td>\n",
       "      <td>5</td>\n",
       "      <td>4</td>\n",
       "      <td>4</td>\n",
       "      <td>2</td>\n",
       "    </tr>\n",
       "    <tr>\n",
       "      <th>4</th>\n",
       "      <td>5</td>\n",
       "      <td>34</td>\n",
       "      <td>5</td>\n",
       "      <td>2</td>\n",
       "      <td>7</td>\n",
       "      <td>Yes</td>\n",
       "      <td>3</td>\n",
       "      <td>4</td>\n",
       "      <td>6</td>\n",
       "      <td>6</td>\n",
       "      <td>2</td>\n",
       "    </tr>\n",
       "  </tbody>\n",
       "</table>\n",
       "</div>"
      ],
      "text/plain": [
       "   patient  Age  Partner_ Score  Self_Score  P_S victim  PH_Score  PY _Score  \\\n",
       "0        1   35               2           2    4    Yes         5          2   \n",
       "1        2   38               0           5    5    Yes         1          6   \n",
       "2        3   20               1           1    2    Yes         6          0   \n",
       "3        4   16               2           5    7    Yes         2          5   \n",
       "4        5   34               5           2    7    Yes         3          4   \n",
       "\n",
       "   E _Score  S _Score  victim_cat  \n",
       "0         2         0           2  \n",
       "1         4         5           2  \n",
       "2         0         4           2  \n",
       "3         4         4           2  \n",
       "4         6         6           2  "
      ]
     },
     "execution_count": 189,
     "metadata": {},
     "output_type": "execute_result"
    }
   ],
   "source": [
    "#encode column victim\n",
    "m1[\"victim_cat\"] = m1[\"victim\"].cat.codes\n",
    "m1.head()"
   ]
  },
  {
   "cell_type": "code",
   "execution_count": 190,
   "metadata": {},
   "outputs": [
    {
     "data": {
      "text/html": [
       "<div>\n",
       "<style scoped>\n",
       "    .dataframe tbody tr th:only-of-type {\n",
       "        vertical-align: middle;\n",
       "    }\n",
       "\n",
       "    .dataframe tbody tr th {\n",
       "        vertical-align: top;\n",
       "    }\n",
       "\n",
       "    .dataframe thead th {\n",
       "        text-align: right;\n",
       "    }\n",
       "</style>\n",
       "<table border=\"1\" class=\"dataframe\">\n",
       "  <thead>\n",
       "    <tr style=\"text-align: right;\">\n",
       "      <th></th>\n",
       "      <th>patient</th>\n",
       "      <th>Age</th>\n",
       "      <th>Partner_ Score</th>\n",
       "      <th>Self_Score</th>\n",
       "      <th>P_S</th>\n",
       "      <th>victim</th>\n",
       "      <th>PH_Score</th>\n",
       "      <th>PY _Score</th>\n",
       "      <th>E _Score</th>\n",
       "      <th>S _Score</th>\n",
       "      <th>victim_cat</th>\n",
       "    </tr>\n",
       "  </thead>\n",
       "  <tbody>\n",
       "    <tr>\n",
       "      <th>0</th>\n",
       "      <td>1</td>\n",
       "      <td>35</td>\n",
       "      <td>2</td>\n",
       "      <td>2</td>\n",
       "      <td>4</td>\n",
       "      <td>Yes</td>\n",
       "      <td>5</td>\n",
       "      <td>2</td>\n",
       "      <td>2</td>\n",
       "      <td>0</td>\n",
       "      <td>2</td>\n",
       "    </tr>\n",
       "    <tr>\n",
       "      <th>1</th>\n",
       "      <td>2</td>\n",
       "      <td>38</td>\n",
       "      <td>0</td>\n",
       "      <td>5</td>\n",
       "      <td>5</td>\n",
       "      <td>Yes</td>\n",
       "      <td>1</td>\n",
       "      <td>6</td>\n",
       "      <td>4</td>\n",
       "      <td>5</td>\n",
       "      <td>2</td>\n",
       "    </tr>\n",
       "    <tr>\n",
       "      <th>2</th>\n",
       "      <td>3</td>\n",
       "      <td>20</td>\n",
       "      <td>1</td>\n",
       "      <td>1</td>\n",
       "      <td>2</td>\n",
       "      <td>Yes</td>\n",
       "      <td>6</td>\n",
       "      <td>0</td>\n",
       "      <td>0</td>\n",
       "      <td>4</td>\n",
       "      <td>2</td>\n",
       "    </tr>\n",
       "    <tr>\n",
       "      <th>3</th>\n",
       "      <td>4</td>\n",
       "      <td>16</td>\n",
       "      <td>2</td>\n",
       "      <td>5</td>\n",
       "      <td>7</td>\n",
       "      <td>Yes</td>\n",
       "      <td>2</td>\n",
       "      <td>5</td>\n",
       "      <td>4</td>\n",
       "      <td>4</td>\n",
       "      <td>2</td>\n",
       "    </tr>\n",
       "    <tr>\n",
       "      <th>4</th>\n",
       "      <td>5</td>\n",
       "      <td>34</td>\n",
       "      <td>5</td>\n",
       "      <td>2</td>\n",
       "      <td>7</td>\n",
       "      <td>Yes</td>\n",
       "      <td>3</td>\n",
       "      <td>4</td>\n",
       "      <td>6</td>\n",
       "      <td>6</td>\n",
       "      <td>2</td>\n",
       "    </tr>\n",
       "  </tbody>\n",
       "</table>\n",
       "</div>"
      ],
      "text/plain": [
       "   patient  Age  Partner_ Score  Self_Score  P_S victim  PH_Score  PY _Score  \\\n",
       "0        1   35               2           2    4    Yes         5          2   \n",
       "1        2   38               0           5    5    Yes         1          6   \n",
       "2        3   20               1           1    2    Yes         6          0   \n",
       "3        4   16               2           5    7    Yes         2          5   \n",
       "4        5   34               5           2    7    Yes         3          4   \n",
       "\n",
       "   E _Score  S _Score  victim_cat  \n",
       "0         2         0           2  \n",
       "1         4         5           2  \n",
       "2         0         4           2  \n",
       "3         4         4           2  \n",
       "4         6         6           2  "
      ]
     },
     "execution_count": 190,
     "metadata": {},
     "output_type": "execute_result"
    }
   ],
   "source": [
    "#verify column 'vitcim' was successfully dropped\n",
    "m1.head()"
   ]
  },
  {
   "cell_type": "code",
   "execution_count": 191,
   "metadata": {},
   "outputs": [
    {
     "data": {
      "text/html": [
       "<div>\n",
       "<style scoped>\n",
       "    .dataframe tbody tr th:only-of-type {\n",
       "        vertical-align: middle;\n",
       "    }\n",
       "\n",
       "    .dataframe tbody tr th {\n",
       "        vertical-align: top;\n",
       "    }\n",
       "\n",
       "    .dataframe thead th {\n",
       "        text-align: right;\n",
       "    }\n",
       "</style>\n",
       "<table border=\"1\" class=\"dataframe\">\n",
       "  <thead>\n",
       "    <tr style=\"text-align: right;\">\n",
       "      <th></th>\n",
       "      <th>patient</th>\n",
       "      <th>Age</th>\n",
       "      <th>Partner_ Score</th>\n",
       "      <th>Self_Score</th>\n",
       "      <th>P_S</th>\n",
       "      <th>victim</th>\n",
       "      <th>PH_Score</th>\n",
       "      <th>PY _Score</th>\n",
       "      <th>E _Score</th>\n",
       "      <th>S _Score</th>\n",
       "      <th>victim_cat</th>\n",
       "    </tr>\n",
       "  </thead>\n",
       "  <tbody>\n",
       "    <tr>\n",
       "      <th>0</th>\n",
       "      <td>100</td>\n",
       "      <td>33</td>\n",
       "      <td>2</td>\n",
       "      <td>5</td>\n",
       "      <td>7</td>\n",
       "      <td>Yes</td>\n",
       "      <td>6</td>\n",
       "      <td>1</td>\n",
       "      <td>-5</td>\n",
       "      <td>-4</td>\n",
       "      <td>2</td>\n",
       "    </tr>\n",
       "    <tr>\n",
       "      <th>1</th>\n",
       "      <td>101</td>\n",
       "      <td>38</td>\n",
       "      <td>-5</td>\n",
       "      <td>-2</td>\n",
       "      <td>-7</td>\n",
       "      <td>Unknown</td>\n",
       "      <td>-2</td>\n",
       "      <td>0</td>\n",
       "      <td>-1</td>\n",
       "      <td>6</td>\n",
       "      <td>1</td>\n",
       "    </tr>\n",
       "    <tr>\n",
       "      <th>2</th>\n",
       "      <td>102</td>\n",
       "      <td>40</td>\n",
       "      <td>-5</td>\n",
       "      <td>5</td>\n",
       "      <td>0</td>\n",
       "      <td>No</td>\n",
       "      <td>4</td>\n",
       "      <td>3</td>\n",
       "      <td>6</td>\n",
       "      <td>2</td>\n",
       "      <td>0</td>\n",
       "    </tr>\n",
       "    <tr>\n",
       "      <th>3</th>\n",
       "      <td>103</td>\n",
       "      <td>42</td>\n",
       "      <td>-2</td>\n",
       "      <td>-2</td>\n",
       "      <td>-4</td>\n",
       "      <td>Unknown</td>\n",
       "      <td>-3</td>\n",
       "      <td>-5</td>\n",
       "      <td>3</td>\n",
       "      <td>4</td>\n",
       "      <td>1</td>\n",
       "    </tr>\n",
       "    <tr>\n",
       "      <th>4</th>\n",
       "      <td>104</td>\n",
       "      <td>44</td>\n",
       "      <td>-2</td>\n",
       "      <td>0</td>\n",
       "      <td>-2</td>\n",
       "      <td>Unknown</td>\n",
       "      <td>-6</td>\n",
       "      <td>4</td>\n",
       "      <td>-4</td>\n",
       "      <td>-1</td>\n",
       "      <td>1</td>\n",
       "    </tr>\n",
       "  </tbody>\n",
       "</table>\n",
       "</div>"
      ],
      "text/plain": [
       "   patient  Age  Partner_ Score  Self_Score  P_S   victim  PH_Score  \\\n",
       "0      100   33               2           5    7      Yes         6   \n",
       "1      101   38              -5          -2   -7  Unknown        -2   \n",
       "2      102   40              -5           5    0       No         4   \n",
       "3      103   42              -2          -2   -4  Unknown        -3   \n",
       "4      104   44              -2           0   -2  Unknown        -6   \n",
       "\n",
       "   PY _Score  E _Score  S _Score  victim_cat  \n",
       "0          1        -5        -4           2  \n",
       "1          0        -1         6           1  \n",
       "2          3         6         2           0  \n",
       "3         -5         3         4           1  \n",
       "4          4        -4        -1           1  "
      ]
     },
     "execution_count": 191,
     "metadata": {},
     "output_type": "execute_result"
    }
   ],
   "source": [
    "#encode column victim\n",
    "m2[\"victim_cat\"] = m2[\"victim\"].cat.codes\n",
    "m2.head()"
   ]
  },
  {
   "cell_type": "code",
   "execution_count": 192,
   "metadata": {},
   "outputs": [],
   "source": [
    "# Load libraries\n",
    "import pandas as pd\n",
    "from sklearn.tree import DecisionTreeClassifier # Import Decision Tree Classifier\n",
    "from sklearn.model_selection import train_test_split # Import train_test_split function\n",
    "from sklearn import metrics #Import scikit-learn metrics module for accuracy calculatio"
   ]
  },
  {
   "cell_type": "code",
   "execution_count": 193,
   "metadata": {},
   "outputs": [
    {
     "data": {
      "text/html": [
       "<div>\n",
       "<style scoped>\n",
       "    .dataframe tbody tr th:only-of-type {\n",
       "        vertical-align: middle;\n",
       "    }\n",
       "\n",
       "    .dataframe tbody tr th {\n",
       "        vertical-align: top;\n",
       "    }\n",
       "\n",
       "    .dataframe thead th {\n",
       "        text-align: right;\n",
       "    }\n",
       "</style>\n",
       "<table border=\"1\" class=\"dataframe\">\n",
       "  <thead>\n",
       "    <tr style=\"text-align: right;\">\n",
       "      <th></th>\n",
       "      <th>patient</th>\n",
       "      <th>Age</th>\n",
       "      <th>Partner_ Score</th>\n",
       "      <th>Self_Score</th>\n",
       "      <th>P_S</th>\n",
       "      <th>victim</th>\n",
       "      <th>PH_Score</th>\n",
       "      <th>PY _Score</th>\n",
       "      <th>E _Score</th>\n",
       "      <th>S _Score</th>\n",
       "      <th>victim_cat</th>\n",
       "    </tr>\n",
       "  </thead>\n",
       "  <tbody>\n",
       "    <tr>\n",
       "      <th>0</th>\n",
       "      <td>1</td>\n",
       "      <td>35</td>\n",
       "      <td>2</td>\n",
       "      <td>2</td>\n",
       "      <td>4</td>\n",
       "      <td>Yes</td>\n",
       "      <td>5</td>\n",
       "      <td>2</td>\n",
       "      <td>2</td>\n",
       "      <td>0</td>\n",
       "      <td>2</td>\n",
       "    </tr>\n",
       "    <tr>\n",
       "      <th>1</th>\n",
       "      <td>2</td>\n",
       "      <td>38</td>\n",
       "      <td>0</td>\n",
       "      <td>5</td>\n",
       "      <td>5</td>\n",
       "      <td>Yes</td>\n",
       "      <td>1</td>\n",
       "      <td>6</td>\n",
       "      <td>4</td>\n",
       "      <td>5</td>\n",
       "      <td>2</td>\n",
       "    </tr>\n",
       "    <tr>\n",
       "      <th>2</th>\n",
       "      <td>3</td>\n",
       "      <td>20</td>\n",
       "      <td>1</td>\n",
       "      <td>1</td>\n",
       "      <td>2</td>\n",
       "      <td>Yes</td>\n",
       "      <td>6</td>\n",
       "      <td>0</td>\n",
       "      <td>0</td>\n",
       "      <td>4</td>\n",
       "      <td>2</td>\n",
       "    </tr>\n",
       "    <tr>\n",
       "      <th>3</th>\n",
       "      <td>4</td>\n",
       "      <td>16</td>\n",
       "      <td>2</td>\n",
       "      <td>5</td>\n",
       "      <td>7</td>\n",
       "      <td>Yes</td>\n",
       "      <td>2</td>\n",
       "      <td>5</td>\n",
       "      <td>4</td>\n",
       "      <td>4</td>\n",
       "      <td>2</td>\n",
       "    </tr>\n",
       "    <tr>\n",
       "      <th>4</th>\n",
       "      <td>5</td>\n",
       "      <td>34</td>\n",
       "      <td>5</td>\n",
       "      <td>2</td>\n",
       "      <td>7</td>\n",
       "      <td>Yes</td>\n",
       "      <td>3</td>\n",
       "      <td>4</td>\n",
       "      <td>6</td>\n",
       "      <td>6</td>\n",
       "      <td>2</td>\n",
       "    </tr>\n",
       "  </tbody>\n",
       "</table>\n",
       "</div>"
      ],
      "text/plain": [
       "   patient  Age  Partner_ Score  Self_Score  P_S victim  PH_Score  PY _Score  \\\n",
       "0        1   35               2           2    4    Yes         5          2   \n",
       "1        2   38               0           5    5    Yes         1          6   \n",
       "2        3   20               1           1    2    Yes         6          0   \n",
       "3        4   16               2           5    7    Yes         2          5   \n",
       "4        5   34               5           2    7    Yes         3          4   \n",
       "\n",
       "   E _Score  S _Score  victim_cat  \n",
       "0         2         0           2  \n",
       "1         4         5           2  \n",
       "2         0         4           2  \n",
       "3         4         4           2  \n",
       "4         6         6           2  "
      ]
     },
     "execution_count": 193,
     "metadata": {},
     "output_type": "execute_result"
    }
   ],
   "source": [
    "#concat model 1 and 2 dataframe for more data to process in decision tree below\n",
    "df= pd.concat([m1,m2],ignore_index=True)\n",
    "\n",
    "#verify \n",
    "df.head()"
   ]
  },
  {
   "cell_type": "code",
   "execution_count": 238,
   "metadata": {},
   "outputs": [
    {
     "data": {
      "text/html": [
       "<style  type=\"text/css\" >\n",
       "    #T_b2087ff8_962d_11e9_acaf_06c179138b48row0_col0 {\n",
       "            background-color:  #08306b;\n",
       "        }    #T_b2087ff8_962d_11e9_acaf_06c179138b48row0_col1 {\n",
       "            background-color:  #f7fbff;\n",
       "        }    #T_b2087ff8_962d_11e9_acaf_06c179138b48row0_col2 {\n",
       "            background-color:  #f7fbff;\n",
       "        }    #T_b2087ff8_962d_11e9_acaf_06c179138b48row0_col3 {\n",
       "            background-color:  #f7fbff;\n",
       "        }    #T_b2087ff8_962d_11e9_acaf_06c179138b48row0_col4 {\n",
       "            background-color:  #f7fbff;\n",
       "        }    #T_b2087ff8_962d_11e9_acaf_06c179138b48row0_col5 {\n",
       "            background-color:  #f7fbff;\n",
       "        }    #T_b2087ff8_962d_11e9_acaf_06c179138b48row0_col6 {\n",
       "            background-color:  #f7fbff;\n",
       "        }    #T_b2087ff8_962d_11e9_acaf_06c179138b48row0_col7 {\n",
       "            background-color:  #f7fbff;\n",
       "        }    #T_b2087ff8_962d_11e9_acaf_06c179138b48row0_col8 {\n",
       "            background-color:  #f7fbff;\n",
       "        }    #T_b2087ff8_962d_11e9_acaf_06c179138b48row0_col9 {\n",
       "            background-color:  #f7fbff;\n",
       "        }    #T_b2087ff8_962d_11e9_acaf_06c179138b48row1_col0 {\n",
       "            background-color:  #b3d3e8;\n",
       "        }    #T_b2087ff8_962d_11e9_acaf_06c179138b48row1_col1 {\n",
       "            background-color:  #08306b;\n",
       "        }    #T_b2087ff8_962d_11e9_acaf_06c179138b48row1_col2 {\n",
       "            background-color:  #c9ddf0;\n",
       "        }    #T_b2087ff8_962d_11e9_acaf_06c179138b48row1_col3 {\n",
       "            background-color:  #a1cbe2;\n",
       "        }    #T_b2087ff8_962d_11e9_acaf_06c179138b48row1_col4 {\n",
       "            background-color:  #9cc9e1;\n",
       "        }    #T_b2087ff8_962d_11e9_acaf_06c179138b48row1_col5 {\n",
       "            background-color:  #bed8ec;\n",
       "        }    #T_b2087ff8_962d_11e9_acaf_06c179138b48row1_col6 {\n",
       "            background-color:  #b9d6ea;\n",
       "        }    #T_b2087ff8_962d_11e9_acaf_06c179138b48row1_col7 {\n",
       "            background-color:  #d0e2f2;\n",
       "        }    #T_b2087ff8_962d_11e9_acaf_06c179138b48row1_col8 {\n",
       "            background-color:  #c9ddf0;\n",
       "        }    #T_b2087ff8_962d_11e9_acaf_06c179138b48row1_col9 {\n",
       "            background-color:  #bad6eb;\n",
       "        }    #T_b2087ff8_962d_11e9_acaf_06c179138b48row2_col0 {\n",
       "            background-color:  #d9e8f5;\n",
       "        }    #T_b2087ff8_962d_11e9_acaf_06c179138b48row2_col1 {\n",
       "            background-color:  #ebf3fb;\n",
       "        }    #T_b2087ff8_962d_11e9_acaf_06c179138b48row2_col2 {\n",
       "            background-color:  #08306b;\n",
       "        }    #T_b2087ff8_962d_11e9_acaf_06c179138b48row2_col3 {\n",
       "            background-color:  #95c5df;\n",
       "        }    #T_b2087ff8_962d_11e9_acaf_06c179138b48row2_col4 {\n",
       "            background-color:  #1561a9;\n",
       "        }    #T_b2087ff8_962d_11e9_acaf_06c179138b48row2_col5 {\n",
       "            background-color:  #99c7e0;\n",
       "        }    #T_b2087ff8_962d_11e9_acaf_06c179138b48row2_col6 {\n",
       "            background-color:  #a6cee4;\n",
       "        }    #T_b2087ff8_962d_11e9_acaf_06c179138b48row2_col7 {\n",
       "            background-color:  #aed1e7;\n",
       "        }    #T_b2087ff8_962d_11e9_acaf_06c179138b48row2_col8 {\n",
       "            background-color:  #a0cbe2;\n",
       "        }    #T_b2087ff8_962d_11e9_acaf_06c179138b48row2_col9 {\n",
       "            background-color:  #4b98ca;\n",
       "        }    #T_b2087ff8_962d_11e9_acaf_06c179138b48row3_col0 {\n",
       "            background-color:  #f0f6fd;\n",
       "        }    #T_b2087ff8_962d_11e9_acaf_06c179138b48row3_col1 {\n",
       "            background-color:  #e0ecf8;\n",
       "        }    #T_b2087ff8_962d_11e9_acaf_06c179138b48row3_col2 {\n",
       "            background-color:  #b2d2e8;\n",
       "        }    #T_b2087ff8_962d_11e9_acaf_06c179138b48row3_col3 {\n",
       "            background-color:  #08306b;\n",
       "        }    #T_b2087ff8_962d_11e9_acaf_06c179138b48row3_col4 {\n",
       "            background-color:  #0c56a0;\n",
       "        }    #T_b2087ff8_962d_11e9_acaf_06c179138b48row3_col5 {\n",
       "            background-color:  #61a7d2;\n",
       "        }    #T_b2087ff8_962d_11e9_acaf_06c179138b48row3_col6 {\n",
       "            background-color:  #79b5d9;\n",
       "        }    #T_b2087ff8_962d_11e9_acaf_06c179138b48row3_col7 {\n",
       "            background-color:  #cfe1f2;\n",
       "        }    #T_b2087ff8_962d_11e9_acaf_06c179138b48row3_col8 {\n",
       "            background-color:  #a6cee4;\n",
       "        }    #T_b2087ff8_962d_11e9_acaf_06c179138b48row3_col9 {\n",
       "            background-color:  #2d7dbb;\n",
       "        }    #T_b2087ff8_962d_11e9_acaf_06c179138b48row4_col0 {\n",
       "            background-color:  #f7fbff;\n",
       "        }    #T_b2087ff8_962d_11e9_acaf_06c179138b48row4_col1 {\n",
       "            background-color:  #e3eef9;\n",
       "        }    #T_b2087ff8_962d_11e9_acaf_06c179138b48row4_col2 {\n",
       "            background-color:  #1c6ab0;\n",
       "        }    #T_b2087ff8_962d_11e9_acaf_06c179138b48row4_col3 {\n",
       "            background-color:  #0d57a1;\n",
       "        }    #T_b2087ff8_962d_11e9_acaf_06c179138b48row4_col4 {\n",
       "            background-color:  #08306b;\n",
       "        }    #T_b2087ff8_962d_11e9_acaf_06c179138b48row4_col5 {\n",
       "            background-color:  #65aad4;\n",
       "        }    #T_b2087ff8_962d_11e9_acaf_06c179138b48row4_col6 {\n",
       "            background-color:  #7cb7da;\n",
       "        }    #T_b2087ff8_962d_11e9_acaf_06c179138b48row4_col7 {\n",
       "            background-color:  #bad6eb;\n",
       "        }    #T_b2087ff8_962d_11e9_acaf_06c179138b48row4_col8 {\n",
       "            background-color:  #95c5df;\n",
       "        }    #T_b2087ff8_962d_11e9_acaf_06c179138b48row4_col9 {\n",
       "            background-color:  #1b69af;\n",
       "        }    #T_b2087ff8_962d_11e9_acaf_06c179138b48row5_col0 {\n",
       "            background-color:  #eaf2fb;\n",
       "        }    #T_b2087ff8_962d_11e9_acaf_06c179138b48row5_col1 {\n",
       "            background-color:  #f2f8fd;\n",
       "        }    #T_b2087ff8_962d_11e9_acaf_06c179138b48row5_col2 {\n",
       "            background-color:  #abd0e6;\n",
       "        }    #T_b2087ff8_962d_11e9_acaf_06c179138b48row5_col3 {\n",
       "            background-color:  #5ca4d0;\n",
       "        }    #T_b2087ff8_962d_11e9_acaf_06c179138b48row5_col4 {\n",
       "            background-color:  #5aa2cf;\n",
       "        }    #T_b2087ff8_962d_11e9_acaf_06c179138b48row5_col5 {\n",
       "            background-color:  #08306b;\n",
       "        }    #T_b2087ff8_962d_11e9_acaf_06c179138b48row5_col6 {\n",
       "            background-color:  #8cc0dd;\n",
       "        }    #T_b2087ff8_962d_11e9_acaf_06c179138b48row5_col7 {\n",
       "            background-color:  #bdd7ec;\n",
       "        }    #T_b2087ff8_962d_11e9_acaf_06c179138b48row5_col8 {\n",
       "            background-color:  #9dcae1;\n",
       "        }    #T_b2087ff8_962d_11e9_acaf_06c179138b48row5_col9 {\n",
       "            background-color:  #7fb9da;\n",
       "        }    #T_b2087ff8_962d_11e9_acaf_06c179138b48row6_col0 {\n",
       "            background-color:  #e3eef9;\n",
       "        }    #T_b2087ff8_962d_11e9_acaf_06c179138b48row6_col1 {\n",
       "            background-color:  #e8f1fa;\n",
       "        }    #T_b2087ff8_962d_11e9_acaf_06c179138b48row6_col2 {\n",
       "            background-color:  #b3d3e8;\n",
       "        }    #T_b2087ff8_962d_11e9_acaf_06c179138b48row6_col3 {\n",
       "            background-color:  #6aaed6;\n",
       "        }    #T_b2087ff8_962d_11e9_acaf_06c179138b48row6_col4 {\n",
       "            background-color:  #66abd4;\n",
       "        }    #T_b2087ff8_962d_11e9_acaf_06c179138b48row6_col5 {\n",
       "            background-color:  #84bcdb;\n",
       "        }    #T_b2087ff8_962d_11e9_acaf_06c179138b48row6_col6 {\n",
       "            background-color:  #08306b;\n",
       "        }    #T_b2087ff8_962d_11e9_acaf_06c179138b48row6_col7 {\n",
       "            background-color:  #bdd7ec;\n",
       "        }    #T_b2087ff8_962d_11e9_acaf_06c179138b48row6_col8 {\n",
       "            background-color:  #85bcdc;\n",
       "        }    #T_b2087ff8_962d_11e9_acaf_06c179138b48row6_col9 {\n",
       "            background-color:  #8fc2de;\n",
       "        }    #T_b2087ff8_962d_11e9_acaf_06c179138b48row7_col0 {\n",
       "            background-color:  #d2e3f3;\n",
       "        }    #T_b2087ff8_962d_11e9_acaf_06c179138b48row7_col1 {\n",
       "            background-color:  #ebf3fb;\n",
       "        }    #T_b2087ff8_962d_11e9_acaf_06c179138b48row7_col2 {\n",
       "            background-color:  #a3cce3;\n",
       "        }    #T_b2087ff8_962d_11e9_acaf_06c179138b48row7_col3 {\n",
       "            background-color:  #abd0e6;\n",
       "        }    #T_b2087ff8_962d_11e9_acaf_06c179138b48row7_col4 {\n",
       "            background-color:  #8abfdd;\n",
       "        }    #T_b2087ff8_962d_11e9_acaf_06c179138b48row7_col5 {\n",
       "            background-color:  #9fcae1;\n",
       "        }    #T_b2087ff8_962d_11e9_acaf_06c179138b48row7_col6 {\n",
       "            background-color:  #a5cde3;\n",
       "        }    #T_b2087ff8_962d_11e9_acaf_06c179138b48row7_col7 {\n",
       "            background-color:  #08306b;\n",
       "        }    #T_b2087ff8_962d_11e9_acaf_06c179138b48row7_col8 {\n",
       "            background-color:  #87bddc;\n",
       "        }    #T_b2087ff8_962d_11e9_acaf_06c179138b48row7_col9 {\n",
       "            background-color:  #aacfe5;\n",
       "        }    #T_b2087ff8_962d_11e9_acaf_06c179138b48row8_col0 {\n",
       "            background-color:  #dceaf6;\n",
       "        }    #T_b2087ff8_962d_11e9_acaf_06c179138b48row8_col1 {\n",
       "            background-color:  #eff6fc;\n",
       "        }    #T_b2087ff8_962d_11e9_acaf_06c179138b48row8_col2 {\n",
       "            background-color:  #a4cce3;\n",
       "        }    #T_b2087ff8_962d_11e9_acaf_06c179138b48row8_col3 {\n",
       "            background-color:  #8dc1dd;\n",
       "        }    #T_b2087ff8_962d_11e9_acaf_06c179138b48row8_col4 {\n",
       "            background-color:  #74b3d8;\n",
       "        }    #T_b2087ff8_962d_11e9_acaf_06c179138b48row8_col5 {\n",
       "            background-color:  #8cc0dd;\n",
       "        }    #T_b2087ff8_962d_11e9_acaf_06c179138b48row8_col6 {\n",
       "            background-color:  #7cb7da;\n",
       "        }    #T_b2087ff8_962d_11e9_acaf_06c179138b48row8_col7 {\n",
       "            background-color:  #99c7e0;\n",
       "        }    #T_b2087ff8_962d_11e9_acaf_06c179138b48row8_col8 {\n",
       "            background-color:  #08306b;\n",
       "        }    #T_b2087ff8_962d_11e9_acaf_06c179138b48row8_col9 {\n",
       "            background-color:  #91c3de;\n",
       "        }    #T_b2087ff8_962d_11e9_acaf_06c179138b48row9_col0 {\n",
       "            background-color:  #e4eff9;\n",
       "        }    #T_b2087ff8_962d_11e9_acaf_06c179138b48row9_col1 {\n",
       "            background-color:  #eaf3fb;\n",
       "        }    #T_b2087ff8_962d_11e9_acaf_06c179138b48row9_col2 {\n",
       "            background-color:  #549fcd;\n",
       "        }    #T_b2087ff8_962d_11e9_acaf_06c179138b48row9_col3 {\n",
       "            background-color:  #2979b9;\n",
       "        }    #T_b2087ff8_962d_11e9_acaf_06c179138b48row9_col4 {\n",
       "            background-color:  #1663aa;\n",
       "        }    #T_b2087ff8_962d_11e9_acaf_06c179138b48row9_col5 {\n",
       "            background-color:  #7ab6d9;\n",
       "        }    #T_b2087ff8_962d_11e9_acaf_06c179138b48row9_col6 {\n",
       "            background-color:  #91c3de;\n",
       "        }    #T_b2087ff8_962d_11e9_acaf_06c179138b48row9_col7 {\n",
       "            background-color:  #c3daee;\n",
       "        }    #T_b2087ff8_962d_11e9_acaf_06c179138b48row9_col8 {\n",
       "            background-color:  #9dcae1;\n",
       "        }    #T_b2087ff8_962d_11e9_acaf_06c179138b48row9_col9 {\n",
       "            background-color:  #08306b;\n",
       "        }</style>  \n",
       "<table id=\"T_b2087ff8_962d_11e9_acaf_06c179138b48\" > \n",
       "<thead>    <tr> \n",
       "        <th class=\"blank level0\" ></th> \n",
       "        <th class=\"col_heading level0 col0\" >patient</th> \n",
       "        <th class=\"col_heading level0 col1\" >Age</th> \n",
       "        <th class=\"col_heading level0 col2\" >Partner_ Score</th> \n",
       "        <th class=\"col_heading level0 col3\" >Self_Score</th> \n",
       "        <th class=\"col_heading level0 col4\" >P_S</th> \n",
       "        <th class=\"col_heading level0 col5\" >PH_Score</th> \n",
       "        <th class=\"col_heading level0 col6\" >PY _Score</th> \n",
       "        <th class=\"col_heading level0 col7\" >E _Score</th> \n",
       "        <th class=\"col_heading level0 col8\" >S _Score</th> \n",
       "        <th class=\"col_heading level0 col9\" >victim_cat</th> \n",
       "    </tr></thead> \n",
       "<tbody>    <tr> \n",
       "        <th id=\"T_b2087ff8_962d_11e9_acaf_06c179138b48level0_row0\" class=\"row_heading level0 row0\" >patient</th> \n",
       "        <td id=\"T_b2087ff8_962d_11e9_acaf_06c179138b48row0_col0\" class=\"data row0 col0\" >1</td> \n",
       "        <td id=\"T_b2087ff8_962d_11e9_acaf_06c179138b48row0_col1\" class=\"data row0 col1\" >-0.0595277</td> \n",
       "        <td id=\"T_b2087ff8_962d_11e9_acaf_06c179138b48row0_col2\" class=\"data row0 col2\" >-0.305124</td> \n",
       "        <td id=\"T_b2087ff8_962d_11e9_acaf_06c179138b48row0_col3\" class=\"data row0 col3\" >-0.479716</td> \n",
       "        <td id=\"T_b2087ff8_962d_11e9_acaf_06c179138b48row0_col4\" class=\"data row0 col4\" >-0.533727</td> \n",
       "        <td id=\"T_b2087ff8_962d_11e9_acaf_06c179138b48row0_col5\" class=\"data row0 col5\" >-0.426332</td> \n",
       "        <td id=\"T_b2087ff8_962d_11e9_acaf_06c179138b48row0_col6\" class=\"data row0 col6\" >-0.380836</td> \n",
       "        <td id=\"T_b2087ff8_962d_11e9_acaf_06c179138b48row0_col7\" class=\"data row0 col7\" >-0.240938</td> \n",
       "        <td id=\"T_b2087ff8_962d_11e9_acaf_06c179138b48row0_col8\" class=\"data row0 col8\" >-0.327583</td> \n",
       "        <td id=\"T_b2087ff8_962d_11e9_acaf_06c179138b48row0_col9\" class=\"data row0 col9\" >-0.389267</td> \n",
       "    </tr>    <tr> \n",
       "        <th id=\"T_b2087ff8_962d_11e9_acaf_06c179138b48level0_row1\" class=\"row_heading level0 row1\" >Age</th> \n",
       "        <td id=\"T_b2087ff8_962d_11e9_acaf_06c179138b48row1_col0\" class=\"data row1 col0\" >-0.0595277</td> \n",
       "        <td id=\"T_b2087ff8_962d_11e9_acaf_06c179138b48row1_col1\" class=\"data row1 col1\" >1</td> \n",
       "        <td id=\"T_b2087ff8_962d_11e9_acaf_06c179138b48row1_col2\" class=\"data row1 col2\" >0.00541205</td> \n",
       "        <td id=\"T_b2087ff8_962d_11e9_acaf_06c179138b48row1_col3\" class=\"data row1 col3\" >0.0622576</td> \n",
       "        <td id=\"T_b2087ff8_962d_11e9_acaf_06c179138b48row1_col4\" class=\"data row1 col4\" >0.0476676</td> \n",
       "        <td id=\"T_b2087ff8_962d_11e9_acaf_06c179138b48row1_col5\" class=\"data row1 col5\" >-0.0317476</td> \n",
       "        <td id=\"T_b2087ff8_962d_11e9_acaf_06c179138b48row1_col6\" class=\"data row1 col6\" >0.0202601</td> \n",
       "        <td id=\"T_b2087ff8_962d_11e9_acaf_06c179138b48row1_col7\" class=\"data row1 col7\" >0.0037361</td> \n",
       "        <td id=\"T_b2087ff8_962d_11e9_acaf_06c179138b48row1_col8\" class=\"data row1 col8\" >-0.0159224</td> \n",
       "        <td id=\"T_b2087ff8_962d_11e9_acaf_06c179138b48row1_col9\" class=\"data row1 col9\" >0.0106673</td> \n",
       "    </tr>    <tr> \n",
       "        <th id=\"T_b2087ff8_962d_11e9_acaf_06c179138b48level0_row2\" class=\"row_heading level0 row2\" >Partner_ Score</th> \n",
       "        <td id=\"T_b2087ff8_962d_11e9_acaf_06c179138b48row2_col0\" class=\"data row2 col0\" >-0.305124</td> \n",
       "        <td id=\"T_b2087ff8_962d_11e9_acaf_06c179138b48row2_col1\" class=\"data row2 col1\" >0.00541205</td> \n",
       "        <td id=\"T_b2087ff8_962d_11e9_acaf_06c179138b48row2_col2\" class=\"data row2 col2\" >1</td> \n",
       "        <td id=\"T_b2087ff8_962d_11e9_acaf_06c179138b48row2_col3\" class=\"data row2 col3\" >0.106541</td> \n",
       "        <td id=\"T_b2087ff8_962d_11e9_acaf_06c179138b48row2_col4\" class=\"data row2 col4\" >0.707531</td> \n",
       "        <td id=\"T_b2087ff8_962d_11e9_acaf_06c179138b48row2_col5\" class=\"data row2 col5\" >0.128453</td> \n",
       "        <td id=\"T_b2087ff8_962d_11e9_acaf_06c179138b48row2_col6\" class=\"data row2 col6\" >0.101259</td> \n",
       "        <td id=\"T_b2087ff8_962d_11e9_acaf_06c179138b48row2_col7\" class=\"data row2 col7\" >0.165627</td> \n",
       "        <td id=\"T_b2087ff8_962d_11e9_acaf_06c179138b48row2_col8\" class=\"data row2 col8\" >0.163475</td> \n",
       "        <td id=\"T_b2087ff8_962d_11e9_acaf_06c179138b48row2_col9\" class=\"data row2 col9\" >0.438666</td> \n",
       "    </tr>    <tr> \n",
       "        <th id=\"T_b2087ff8_962d_11e9_acaf_06c179138b48level0_row3\" class=\"row_heading level0 row3\" >Self_Score</th> \n",
       "        <td id=\"T_b2087ff8_962d_11e9_acaf_06c179138b48row3_col0\" class=\"data row3 col0\" >-0.479716</td> \n",
       "        <td id=\"T_b2087ff8_962d_11e9_acaf_06c179138b48row3_col1\" class=\"data row3 col1\" >0.0622576</td> \n",
       "        <td id=\"T_b2087ff8_962d_11e9_acaf_06c179138b48row3_col2\" class=\"data row3 col2\" >0.106541</td> \n",
       "        <td id=\"T_b2087ff8_962d_11e9_acaf_06c179138b48row3_col3\" class=\"data row3 col3\" >1</td> \n",
       "        <td id=\"T_b2087ff8_962d_11e9_acaf_06c179138b48row3_col4\" class=\"data row3 col4\" >0.778042</td> \n",
       "        <td id=\"T_b2087ff8_962d_11e9_acaf_06c179138b48row3_col5\" class=\"data row3 col5\" >0.327022</td> \n",
       "        <td id=\"T_b2087ff8_962d_11e9_acaf_06c179138b48row3_col6\" class=\"data row3 col6\" >0.264606</td> \n",
       "        <td id=\"T_b2087ff8_962d_11e9_acaf_06c179138b48row3_col7\" class=\"data row3 col7\" >0.0158091</td> \n",
       "        <td id=\"T_b2087ff8_962d_11e9_acaf_06c179138b48row3_col8\" class=\"data row3 col8\" >0.135486</td> \n",
       "        <td id=\"T_b2087ff8_962d_11e9_acaf_06c179138b48row3_col9\" class=\"data row3 col9\" >0.588091</td> \n",
       "    </tr>    <tr> \n",
       "        <th id=\"T_b2087ff8_962d_11e9_acaf_06c179138b48level0_row4\" class=\"row_heading level0 row4\" >P_S</th> \n",
       "        <td id=\"T_b2087ff8_962d_11e9_acaf_06c179138b48row4_col0\" class=\"data row4 col0\" >-0.533727</td> \n",
       "        <td id=\"T_b2087ff8_962d_11e9_acaf_06c179138b48row4_col1\" class=\"data row4 col1\" >0.0476676</td> \n",
       "        <td id=\"T_b2087ff8_962d_11e9_acaf_06c179138b48row4_col2\" class=\"data row4 col2\" >0.707531</td> \n",
       "        <td id=\"T_b2087ff8_962d_11e9_acaf_06c179138b48row4_col3\" class=\"data row4 col3\" >0.778042</td> \n",
       "        <td id=\"T_b2087ff8_962d_11e9_acaf_06c179138b48row4_col4\" class=\"data row4 col4\" >1</td> \n",
       "        <td id=\"T_b2087ff8_962d_11e9_acaf_06c179138b48row4_col5\" class=\"data row4 col5\" >0.313581</td> \n",
       "        <td id=\"T_b2087ff8_962d_11e9_acaf_06c179138b48row4_col6\" class=\"data row4 col6\" >0.252039</td> \n",
       "        <td id=\"T_b2087ff8_962d_11e9_acaf_06c179138b48row4_col7\" class=\"data row4 col7\" >0.115881</td> \n",
       "        <td id=\"T_b2087ff8_962d_11e9_acaf_06c179138b48row4_col8\" class=\"data row4 col8\" >0.199579</td> \n",
       "        <td id=\"T_b2087ff8_962d_11e9_acaf_06c179138b48row4_col9\" class=\"data row4 col9\" >0.695126</td> \n",
       "    </tr>    <tr> \n",
       "        <th id=\"T_b2087ff8_962d_11e9_acaf_06c179138b48level0_row5\" class=\"row_heading level0 row5\" >PH_Score</th> \n",
       "        <td id=\"T_b2087ff8_962d_11e9_acaf_06c179138b48row5_col0\" class=\"data row5 col0\" >-0.426332</td> \n",
       "        <td id=\"T_b2087ff8_962d_11e9_acaf_06c179138b48row5_col1\" class=\"data row5 col1\" >-0.0317476</td> \n",
       "        <td id=\"T_b2087ff8_962d_11e9_acaf_06c179138b48row5_col2\" class=\"data row5 col2\" >0.128453</td> \n",
       "        <td id=\"T_b2087ff8_962d_11e9_acaf_06c179138b48row5_col3\" class=\"data row5 col3\" >0.327022</td> \n",
       "        <td id=\"T_b2087ff8_962d_11e9_acaf_06c179138b48row5_col4\" class=\"data row5 col4\" >0.313581</td> \n",
       "        <td id=\"T_b2087ff8_962d_11e9_acaf_06c179138b48row5_col5\" class=\"data row5 col5\" >1</td> \n",
       "        <td id=\"T_b2087ff8_962d_11e9_acaf_06c179138b48row5_col6\" class=\"data row5 col6\" >0.199508</td> \n",
       "        <td id=\"T_b2087ff8_962d_11e9_acaf_06c179138b48row5_col7\" class=\"data row5 col7\" >0.106011</td> \n",
       "        <td id=\"T_b2087ff8_962d_11e9_acaf_06c179138b48row5_col8\" class=\"data row5 col8\" >0.173917</td> \n",
       "        <td id=\"T_b2087ff8_962d_11e9_acaf_06c179138b48row5_col9\" class=\"data row5 col9\" >0.235</td> \n",
       "    </tr>    <tr> \n",
       "        <th id=\"T_b2087ff8_962d_11e9_acaf_06c179138b48level0_row6\" class=\"row_heading level0 row6\" >PY _Score</th> \n",
       "        <td id=\"T_b2087ff8_962d_11e9_acaf_06c179138b48row6_col0\" class=\"data row6 col0\" >-0.380836</td> \n",
       "        <td id=\"T_b2087ff8_962d_11e9_acaf_06c179138b48row6_col1\" class=\"data row6 col1\" >0.0202601</td> \n",
       "        <td id=\"T_b2087ff8_962d_11e9_acaf_06c179138b48row6_col2\" class=\"data row6 col2\" >0.101259</td> \n",
       "        <td id=\"T_b2087ff8_962d_11e9_acaf_06c179138b48row6_col3\" class=\"data row6 col3\" >0.264606</td> \n",
       "        <td id=\"T_b2087ff8_962d_11e9_acaf_06c179138b48row6_col4\" class=\"data row6 col4\" >0.252039</td> \n",
       "        <td id=\"T_b2087ff8_962d_11e9_acaf_06c179138b48row6_col5\" class=\"data row6 col5\" >0.199508</td> \n",
       "        <td id=\"T_b2087ff8_962d_11e9_acaf_06c179138b48row6_col6\" class=\"data row6 col6\" >1</td> \n",
       "        <td id=\"T_b2087ff8_962d_11e9_acaf_06c179138b48row6_col7\" class=\"data row6 col7\" >0.105377</td> \n",
       "        <td id=\"T_b2087ff8_962d_11e9_acaf_06c179138b48row6_col8\" class=\"data row6 col8\" >0.252579</td> \n",
       "        <td id=\"T_b2087ff8_962d_11e9_acaf_06c179138b48row6_col9\" class=\"data row6 col9\" >0.180686</td> \n",
       "    </tr>    <tr> \n",
       "        <th id=\"T_b2087ff8_962d_11e9_acaf_06c179138b48level0_row7\" class=\"row_heading level0 row7\" >E _Score</th> \n",
       "        <td id=\"T_b2087ff8_962d_11e9_acaf_06c179138b48row7_col0\" class=\"data row7 col0\" >-0.240938</td> \n",
       "        <td id=\"T_b2087ff8_962d_11e9_acaf_06c179138b48row7_col1\" class=\"data row7 col1\" >0.0037361</td> \n",
       "        <td id=\"T_b2087ff8_962d_11e9_acaf_06c179138b48row7_col2\" class=\"data row7 col2\" >0.165627</td> \n",
       "        <td id=\"T_b2087ff8_962d_11e9_acaf_06c179138b48row7_col3\" class=\"data row7 col3\" >0.0158091</td> \n",
       "        <td id=\"T_b2087ff8_962d_11e9_acaf_06c179138b48row7_col4\" class=\"data row7 col4\" >0.115881</td> \n",
       "        <td id=\"T_b2087ff8_962d_11e9_acaf_06c179138b48row7_col5\" class=\"data row7 col5\" >0.106011</td> \n",
       "        <td id=\"T_b2087ff8_962d_11e9_acaf_06c179138b48row7_col6\" class=\"data row7 col6\" >0.105377</td> \n",
       "        <td id=\"T_b2087ff8_962d_11e9_acaf_06c179138b48row7_col7\" class=\"data row7 col7\" >1</td> \n",
       "        <td id=\"T_b2087ff8_962d_11e9_acaf_06c179138b48row7_col8\" class=\"data row7 col8\" >0.243623</td> \n",
       "        <td id=\"T_b2087ff8_962d_11e9_acaf_06c179138b48row7_col9\" class=\"data row7 col9\" >0.0815278</td> \n",
       "    </tr>    <tr> \n",
       "        <th id=\"T_b2087ff8_962d_11e9_acaf_06c179138b48level0_row8\" class=\"row_heading level0 row8\" >S _Score</th> \n",
       "        <td id=\"T_b2087ff8_962d_11e9_acaf_06c179138b48row8_col0\" class=\"data row8 col0\" >-0.327583</td> \n",
       "        <td id=\"T_b2087ff8_962d_11e9_acaf_06c179138b48row8_col1\" class=\"data row8 col1\" >-0.0159224</td> \n",
       "        <td id=\"T_b2087ff8_962d_11e9_acaf_06c179138b48row8_col2\" class=\"data row8 col2\" >0.163475</td> \n",
       "        <td id=\"T_b2087ff8_962d_11e9_acaf_06c179138b48row8_col3\" class=\"data row8 col3\" >0.135486</td> \n",
       "        <td id=\"T_b2087ff8_962d_11e9_acaf_06c179138b48row8_col4\" class=\"data row8 col4\" >0.199579</td> \n",
       "        <td id=\"T_b2087ff8_962d_11e9_acaf_06c179138b48row8_col5\" class=\"data row8 col5\" >0.173917</td> \n",
       "        <td id=\"T_b2087ff8_962d_11e9_acaf_06c179138b48row8_col6\" class=\"data row8 col6\" >0.252579</td> \n",
       "        <td id=\"T_b2087ff8_962d_11e9_acaf_06c179138b48row8_col7\" class=\"data row8 col7\" >0.243623</td> \n",
       "        <td id=\"T_b2087ff8_962d_11e9_acaf_06c179138b48row8_col8\" class=\"data row8 col8\" >1</td> \n",
       "        <td id=\"T_b2087ff8_962d_11e9_acaf_06c179138b48row8_col9\" class=\"data row8 col9\" >0.175391</td> \n",
       "    </tr>    <tr> \n",
       "        <th id=\"T_b2087ff8_962d_11e9_acaf_06c179138b48level0_row9\" class=\"row_heading level0 row9\" >victim_cat</th> \n",
       "        <td id=\"T_b2087ff8_962d_11e9_acaf_06c179138b48row9_col0\" class=\"data row9 col0\" >-0.389267</td> \n",
       "        <td id=\"T_b2087ff8_962d_11e9_acaf_06c179138b48row9_col1\" class=\"data row9 col1\" >0.0106673</td> \n",
       "        <td id=\"T_b2087ff8_962d_11e9_acaf_06c179138b48row9_col2\" class=\"data row9 col2\" >0.438666</td> \n",
       "        <td id=\"T_b2087ff8_962d_11e9_acaf_06c179138b48row9_col3\" class=\"data row9 col3\" >0.588091</td> \n",
       "        <td id=\"T_b2087ff8_962d_11e9_acaf_06c179138b48row9_col4\" class=\"data row9 col4\" >0.695126</td> \n",
       "        <td id=\"T_b2087ff8_962d_11e9_acaf_06c179138b48row9_col5\" class=\"data row9 col5\" >0.235</td> \n",
       "        <td id=\"T_b2087ff8_962d_11e9_acaf_06c179138b48row9_col6\" class=\"data row9 col6\" >0.180686</td> \n",
       "        <td id=\"T_b2087ff8_962d_11e9_acaf_06c179138b48row9_col7\" class=\"data row9 col7\" >0.0815278</td> \n",
       "        <td id=\"T_b2087ff8_962d_11e9_acaf_06c179138b48row9_col8\" class=\"data row9 col8\" >0.175391</td> \n",
       "        <td id=\"T_b2087ff8_962d_11e9_acaf_06c179138b48row9_col9\" class=\"data row9 col9\" >1</td> \n",
       "    </tr></tbody> \n",
       "</table> "
      ],
      "text/plain": [
       "<pandas.io.formats.style.Styler at 0x7f6493298f60>"
      ]
     },
     "execution_count": 238,
     "metadata": {},
     "output_type": "execute_result"
    }
   ],
   "source": [
    "#correlation between feature cols and identified as a vitcim\n",
    "df.corr().style.background_gradient(cmap='Blues')"
   ]
  },
  {
   "cell_type": "code",
   "execution_count": 221,
   "metadata": {},
   "outputs": [],
   "source": [
    "#split dataset in features and target variable\n",
    "feature_cols =  [ 'Age','Partner_ Score','Self_Score','P_S','PH_Score','PY _Score','E _Score','S _Score']\n",
    "X = df[feature_cols] # Features\n",
    "y = df.victim_cat # Target variable"
   ]
  },
  {
   "cell_type": "code",
   "execution_count": 222,
   "metadata": {},
   "outputs": [],
   "source": [
    "# Split dataset into training set and test set\n",
    "X_train, X_test, y_train, y_test = train_test_split(X, y, test_size=0.3, random_state=1) # 70% training and 30% test"
   ]
  },
  {
   "cell_type": "code",
   "execution_count": 223,
   "metadata": {},
   "outputs": [],
   "source": [
    "# Create Decision Tree classifer object\n",
    "clf = DecisionTreeClassifier()\n",
    "\n",
    "# Train Decision Tree Classifer\n",
    "clf = clf.fit(X_train,y_train)\n",
    "\n",
    "#Predict the response for test dataset\n",
    "y_pred = clf.predict(X_test)"
   ]
  },
  {
   "cell_type": "code",
   "execution_count": 224,
   "metadata": {},
   "outputs": [
    {
     "name": "stdout",
     "output_type": "stream",
     "text": [
      "Accuracy: 0.95\n"
     ]
    }
   ],
   "source": [
    "# Model Accuracy, how often is the classifier correct?\n",
    "print(\"Accuracy:\",metrics.accuracy_score(y_test, y_pred))"
   ]
  },
  {
   "cell_type": "code",
   "execution_count": 225,
   "metadata": {},
   "outputs": [],
   "source": [
    "from sklearn.tree import export_graphviz\n",
    "from sklearn.externals.six import StringIO  \n",
    "from IPython.display import Image  \n",
    "import pydotplus"
   ]
  },
  {
   "cell_type": "code",
   "execution_count": 226,
   "metadata": {},
   "outputs": [
    {
     "data": {
      "image/png": "[encoded data removed]",
      "text/plain": [
       "<IPython.core.display.Image object>"
      ]
     },
     "execution_count": 226,
     "metadata": {},
     "output_type": "execute_result"
    }
   ],
   "source": [
    "from sklearn.externals.six import StringIO  \n",
    "from IPython.display import Image  \n",
    "from sklearn.tree import export_graphviz\n",
    "import pydotplus\n",
    "dot_data = StringIO()\n",
    "export_graphviz(clf, out_file=dot_data,  \n",
    "                filled=True, rounded=True,\n",
    "                special_characters=True, feature_names = feature_cols,class_names=['0','1','2'])\n",
    "graph = pydotplus.graph_from_dot_data(dot_data.getvalue())  \n",
    "graph.write_png('victim.png')\n",
    "Image(graph.create_png())"
   ]
  },
  {
   "cell_type": "code",
   "execution_count": 227,
   "metadata": {},
   "outputs": [
    {
     "name": "stdout",
     "output_type": "stream",
     "text": [
      "Accuracy: 0.95\n"
     ]
    }
   ],
   "source": [
    "# Create Decision Tree classifer object\n",
    "clf = DecisionTreeClassifier(criterion=\"entropy\", max_depth=3)\n",
    "\n",
    "# Train Decision Tree Classifer\n",
    "clf = clf.fit(X_train,y_train)\n",
    "\n",
    "#Predict the response for test dataset\n",
    "y_pred = clf.predict(X_test)\n",
    "\n",
    "# Model Accuracy, how often is the classifier correct?\n",
    "print(\"Accuracy:\",metrics.accuracy_score(y_test, y_pred))"
   ]
  },
  {
   "cell_type": "code",
   "execution_count": 228,
   "metadata": {},
   "outputs": [],
   "source": [
    "from sklearn import tree"
   ]
  },
  {
   "cell_type": "markdown",
   "metadata": {},
   "source": [
    "## 5.1 System Walkthrough"
   ]
  },
  {
   "cell_type": "markdown",
   "metadata": {},
   "source": [
    "### Patient's Prescreening Results"
   ]
  },
  {
   "cell_type": "code",
   "execution_count": 1,
   "metadata": {},
   "outputs": [
    {
     "name": "stdin",
     "output_type": "stream",
     "text": [
      "Please enter patient's Partner + Self score:  2\n"
     ]
    },
    {
     "name": "stdout",
     "output_type": "stream",
     "text": [
      "Yes, Victim Identified\n"
     ]
    }
   ],
   "source": [
    "#assign variable v as partner and self score\n",
    "#user input int \n",
    "#print victim identified yes, no , unnknown\n",
    "v = int(input(\"Please enter patient's Partner + Self score: \"))\n",
    "if (v >= 1 ):\n",
    "    print(\"Yes, Victim Identified\")\n",
    "    \n",
    "if (v < 1 ): \n",
    "        print(\"Unknown\")\n",
    "        \n",
    "if(v == 0):\n",
    "    print(\"No Victim Identified\")"
   ]
  },
  {
   "cell_type": "markdown",
   "metadata": {},
   "source": [
    "###  Patients' Class"
   ]
  },
  {
   "cell_type": "code",
   "execution_count": 2,
   "metadata": {},
   "outputs": [
    {
     "name": "stdin",
     "output_type": "stream",
     "text": [
      "Please enter patient's identification: Yes\n"
     ]
    },
    {
     "name": "stdout",
     "output_type": "stream",
     "text": [
      "Follow steps below to identify what kind of victim\n"
     ]
    }
   ],
   "source": [
    "#assiging id for patient's class. allow user to input int score\n",
    "#prints recommendation\n",
    "id = input(\"Please enter patient's identification:\")\n",
    "\n",
    "if (id == 'Yes'):\n",
    "    print(\"Follow steps below to identify what kind of victim\")\n",
    "    \n",
    "if (id == 'No'):\n",
    "    print(\"Refer patient to Prevention Programs and Community Education Group\")\n",
    "    \n",
    "if (id == 'Unknown'):\n",
    "    print(\"Refer patient to Community Education Group\")"
   ]
  },
  {
   "cell_type": "markdown",
   "metadata": {},
   "source": [
    "After patient has been indentified as **victim = Yes**. The next questions identifies exactly what kind of victim the patient is based on 4 different kinds of abuse.\n",
    "1. Physical\n",
    "2. Pyschological\n",
    "3. Economic\n",
    "4. Sexual\n",
    "\n",
    "Patient is asked to respond Yes, No or have the option to refuse answer if they are or unsure,etc.  Each response is scored accordingly :\n",
    "\n",
    "| Yes  | No| Other|\n",
    "| -----|: ----------|------| \n",
    "| 1  |    0   | -1\n",
    "\n",
    "\n",
    "Patient's score is assessed at the end of each section to get 4 different type of scores:\n",
    "- PH Score (Physical Abuse)\n",
    "- PY Score (Pyschological Abuse)\n",
    "- E Score(Economic Abuse)\n",
    "- S Score (Sexual Abuse)"
   ]
  },
  {
   "cell_type": "markdown",
   "metadata": {},
   "source": [
    "## Abuse"
   ]
  },
  {
   "cell_type": "markdown",
   "metadata": {},
   "source": [
    "is a a pattern of physical , economic and/or pyschological/emotional violence or threat of violence used to get power and keep control over another person.\n",
    "\n",
    "<dl> \n",
    "<dt><strong>Physical Abuse</strong></dt>\n",
    "    <dd> An act where one person uses their body in order to inflict intentional harm or injury upon another person.  </dd>    \n",
    "<dt><strong>Psychological Abuse</strong></dt>\n",
    "    <dd>Insulting the victim, lowering hher self-esteem, calling her names.</dd>\n",
    "<dt><strong>Economic Abuse</strong></dt>\n",
    "<dd>Trying to keep the victim from getting or keeping a job. Making her ask for money. GIving her an allowance. Taking her money.</dd>\n",
    "<dt><strong>Sexual Abuse</strong></dt>\n",
    "<dd>Forcing sxual activity. Physically attacking the sexual parts of her body. Treating her like a sex object.</dd>\n",
    "\n",
    "    \n",
    "</dl>"
   ]
  },
  {
   "cell_type": "markdown",
   "metadata": {},
   "source": [
    "## Scoring Abuse"
   ]
  },
  {
   "cell_type": "markdown",
   "metadata": {},
   "source": [
    "### Physical Abuse\n",
    "- Throw objects at you\n",
    "- Push, hit, strangle,kick bite , cut, burn  spit at you\n",
    "- Hold you down to prevent you from leaving a room\n",
    "- Endanger you by driving wildly or recklessly\n",
    "- Abandon you in dangerous places\n",
    "- Threaten you with  a weapon"
   ]
  },
  {
   "cell_type": "markdown",
   "metadata": {},
   "source": [
    "| PH Score         | Victim Identified|\n",
    "| -------------- |: ----------| \n",
    "| >= 2               |     Yes    |\n",
    "|    = 0           |     No     |\n",
    "|       < 2         |    Unknown|"
   ]
  },
  {
   "cell_type": "markdown",
   "metadata": {},
   "source": [
    "### Psychological Abuse\n",
    "- Ignore your feelings\n",
    "- Make fun of your beliefs\n",
    "- Call you names like \"bitch\", \"slut\", \"whore\", \"cunt\"\n",
    "- Tell you that you are, \"stupid\", \"dumb\", \"fat\", or \"ugly\"\n",
    "- Isolate you from friends and family\n",
    "- Constantly crizticing you and the way you do things"
   ]
  },
  {
   "cell_type": "markdown",
   "metadata": {},
   "source": [
    "| PY Score         | Victim Identified|\n",
    "| -------------- |: ----------| \n",
    "| >= 2               |     Yes    |\n",
    "|    = 0           |     No     |\n",
    "|       < 2         |    Unknown|"
   ]
  },
  {
   "cell_type": "markdown",
   "metadata": {},
   "source": [
    "## Economic Abuse\n",
    "- Refuse to give you money for food or clothing\n",
    "- Make you ask for money\n",
    "- Force you to hand over money that you earn\n",
    "- Do not give you access to a checking account\n",
    "- Does not involve you in making decisions about money\n",
    "- Make you spend all your money while she/he doesnt spend his/hers"
   ]
  },
  {
   "cell_type": "markdown",
   "metadata": {},
   "source": [
    "| E Score         | Victim Identified|\n",
    "| -------------- |: ----------| \n",
    "| >= 2               |     Yes    |\n",
    "|    = 0           |     No     |\n",
    "|       < 2         |    Unknown|"
   ]
  },
  {
   "cell_type": "markdown",
   "metadata": {},
   "source": [
    "## Sexual Abuse\n",
    "- Treat you as a sex object\n",
    "- Criticize the way you act during sex\n",
    "- Force you to have sex when you do not want to\n",
    "- Force you to have sex with other people\n",
    "- Insisting on unwanted or uncomfortable touching\n",
    "- Accusing you of having sex with other women or men"
   ]
  },
  {
   "cell_type": "markdown",
   "metadata": {},
   "source": [
    "| S Score         | Victim Identified|\n",
    "| -------------- |: ----------| \n",
    "| >= 2               |     Yes    |\n",
    "|    = 0           |     No     |\n",
    "|       < 2         |    Unknown|"
   ]
  },
  {
   "cell_type": "markdown",
   "metadata": {},
   "source": [
    "# 6. Modeling"
   ]
  },
  {
   "cell_type": "code",
   "execution_count": 3,
   "metadata": {},
   "outputs": [],
   "source": [
    "#importing nesc modules for modeling below\n",
    "import numpy as np\n",
    "import pandas as pd\n",
    "from sklearn.tree import DecisionTreeClassifier\n",
    "from sklearn.model_selection import train_test_split\n",
    "from sklearn import metrics #Import scikit-learn metrics module for accuracy calculation"
   ]
  },
  {
   "cell_type": "markdown",
   "metadata": {},
   "source": [
    "### Identifying Type of Abuse"
   ]
  },
  {
   "cell_type": "markdown",
   "metadata": {},
   "source": [
    "### *Physical Abuse*"
   ]
  },
  {
   "cell_type": "code",
   "execution_count": 4,
   "metadata": {},
   "outputs": [
    {
     "name": "stdin",
     "output_type": "stream",
     "text": [
      "Please enter patient's PH score:  0\n"
     ]
    },
    {
     "name": "stdout",
     "output_type": "stream",
     "text": [
      "Unknown\n",
      "No Victim Identified\n"
     ]
    }
   ],
   "source": [
    "#assigning ph for phy score. \n",
    "#user input int , prints victim identified yes, no , unnknown\n",
    "ph = int(input(\"Please enter patient's PH score: \"))\n",
    "if (ph >= 2):\n",
    "    print(\"Yes, Victim Identified\")\n",
    "    \n",
    "if (ph < 2): \n",
    "        print(\"Unknown\")\n",
    "        \n",
    "if(ph == 0):\n",
    "    print(\"No Victim Identified\")\n",
    "       \n",
    "        "
   ]
  },
  {
   "cell_type": "markdown",
   "metadata": {},
   "source": [
    "### *Pyschological Abuse*"
   ]
  },
  {
   "cell_type": "code",
   "execution_count": 5,
   "metadata": {},
   "outputs": [
    {
     "name": "stdin",
     "output_type": "stream",
     "text": [
      "Please enter patient's PY score:  0\n"
     ]
    },
    {
     "name": "stdout",
     "output_type": "stream",
     "text": [
      "Unknown\n",
      "No Victim Identified\n"
     ]
    }
   ],
   "source": [
    "#assign variable py for py score\n",
    "#user input int , prints victim identified yes, no , unnknown\n",
    "py = int(input(\"Please enter patient's PY score: \"))\n",
    "if (py >= 2):\n",
    "    print(\"Yes, Victim Identified\")\n",
    "    \n",
    "if (py < 2): \n",
    "        print(\"Unknown\")\n",
    "        \n",
    "if(py == 0):\n",
    "    print(\"No Victim Identified\")"
   ]
  },
  {
   "cell_type": "markdown",
   "metadata": {},
   "source": [
    "### *Economic Abuse*"
   ]
  },
  {
   "cell_type": "code",
   "execution_count": 7,
   "metadata": {},
   "outputs": [
    {
     "name": "stdin",
     "output_type": "stream",
     "text": [
      "Please enter patient's E score:  2\n"
     ]
    },
    {
     "name": "stdout",
     "output_type": "stream",
     "text": [
      "Yes, Victim Identified\n"
     ]
    }
   ],
   "source": [
    "#assign vairbale e for e score \n",
    "#user input int , prints victim identified yes, no , unnknown\n",
    "e = int(input(\"Please enter patient's E score: \"))\n",
    "if (e >= 2):\n",
    "    print(\"Yes, Victim Identified\")\n",
    "    \n",
    "if (e < 2): \n",
    "        print(\"Unknown\")\n",
    "        \n",
    "if(e == 0):\n",
    "    print(\"No Victim Identified\")"
   ]
  },
  {
   "cell_type": "markdown",
   "metadata": {},
   "source": [
    "### *Sexual Abuse*"
   ]
  },
  {
   "cell_type": "code",
   "execution_count": 8,
   "metadata": {},
   "outputs": [
    {
     "name": "stdin",
     "output_type": "stream",
     "text": [
      "Please enter patient's S score:  0\n"
     ]
    },
    {
     "name": "stdout",
     "output_type": "stream",
     "text": [
      "Unknown\n",
      "No Victim Identified\n"
     ]
    }
   ],
   "source": [
    "#assiging s for s score\n",
    "#user input int , prints victim identified yes, no , unnknown\n",
    "s = int(input(\"Please enter patient's S score: \"))\n",
    "if (s >= 2):\n",
    "    print(\"Yes, Victim Identified\")\n",
    "    \n",
    "if (s < 2): \n",
    "        print(\"Unknown\")\n",
    "        \n",
    "if(s == 0):\n",
    "    print(\"No Victim Identified\")"
   ]
  },
  {
   "cell_type": "markdown",
   "metadata": {},
   "source": [
    "## Identifying Best service for patient"
   ]
  },
  {
   "cell_type": "code",
   "execution_count": 9,
   "metadata": {},
   "outputs": [
    {
     "name": "stdin",
     "output_type": "stream",
     "text": [
      "Please enter victims' identified abuse type:  Economic\n"
     ]
    },
    {
     "name": "stdout",
     "output_type": "stream",
     "text": [
      "Refer patient to Community Education Group\n"
     ]
    }
   ],
   "source": [
    "#using y as target variable. allow user to input str abuse type idenitified earlier\n",
    "#str input , prints recommended way to refer patient/follow up\n",
    "y = input(\"Please enter victims' identified abuse type: \")\n",
    "\n",
    "if (y == 'Physical'):\n",
    "    print(\"Safe House Option and Authorities\")\n",
    "    \n",
    "if (y == 'Pyschological'):\n",
    "    print(\"Refer patient to Prevention Programs and Community Education Group\")\n",
    "    \n",
    "if (y == 'Economic'):\n",
    "    print(\"Refer patient to Community Education Group\")\n",
    "\n",
    "if (y == 'Sexual'):\n",
    "    print(\"Refer patient to Legal and Medical Services\")"
   ]
  },
  {
   "cell_type": "markdown",
   "metadata": {},
   "source": []
  },
  {
   "cell_type": "markdown",
   "metadata": {},
   "source": [
    "## 6A. Application ( with SQL Queries)"
   ]
  },
  {
   "cell_type": "code",
   "execution_count": 10,
   "metadata": {},
   "outputs": [],
   "source": [
    "%reload_ext sql"
   ]
  },
  {
   "cell_type": "code",
   "execution_count": 11,
   "metadata": {},
   "outputs": [
    {
     "data": {
      "text/plain": [
       "'Connected: @database.db'"
      ]
     },
     "execution_count": 11,
     "metadata": {},
     "output_type": "execute_result"
    }
   ],
   "source": [
    "%sql sqlite:///database.db"
   ]
  },
  {
   "cell_type": "code",
   "execution_count": 12,
   "metadata": {},
   "outputs": [
    {
     "name": "stdout",
     "output_type": "stream",
     "text": [
      " * sqlite:///database.db\n",
      "Done.\n"
     ]
    }
   ],
   "source": [
    "a = %sql SELECT * FROM Application\n",
    "application = a.DataFrame()"
   ]
  },
  {
   "cell_type": "code",
   "execution_count": 13,
   "metadata": {},
   "outputs": [
    {
     "name": "stdout",
     "output_type": "stream",
     "text": [
      " * sqlite:///database.db\n",
      "Done.\n"
     ]
    },
    {
     "data": {
      "text/html": [
       "<table>\n",
       "    <tr>\n",
       "        <th>Patient</th>\n",
       "        <th>Age (Yrs)</th>\n",
       "        <th>Partner Score</th>\n",
       "        <th>Self Score</th>\n",
       "        <th>PH Score</th>\n",
       "        <th>PY Score</th>\n",
       "        <th>E Score</th>\n",
       "        <th>S Score</th>\n",
       "    </tr>\n",
       "    <tr>\n",
       "        <td>Teagan</td>\n",
       "        <td>35</td>\n",
       "        <td>2</td>\n",
       "        <td>2</td>\n",
       "        <td>5</td>\n",
       "        <td>2</td>\n",
       "        <td>2</td>\n",
       "        <td>0</td>\n",
       "    </tr>\n",
       "    <tr>\n",
       "        <td>Sydney</td>\n",
       "        <td>38</td>\n",
       "        <td>0</td>\n",
       "        <td>5</td>\n",
       "        <td>1</td>\n",
       "        <td>6</td>\n",
       "        <td>4</td>\n",
       "        <td>5</td>\n",
       "    </tr>\n",
       "    <tr>\n",
       "        <td>Dawn</td>\n",
       "        <td>20</td>\n",
       "        <td>1</td>\n",
       "        <td>1</td>\n",
       "        <td>6</td>\n",
       "        <td>0</td>\n",
       "        <td>0</td>\n",
       "        <td>4</td>\n",
       "    </tr>\n",
       "    <tr>\n",
       "        <td>Jolie</td>\n",
       "        <td>16</td>\n",
       "        <td>2</td>\n",
       "        <td>5</td>\n",
       "        <td>2</td>\n",
       "        <td>5</td>\n",
       "        <td>4</td>\n",
       "        <td>4</td>\n",
       "    </tr>\n",
       "    <tr>\n",
       "        <td>Lacota</td>\n",
       "        <td>34</td>\n",
       "        <td>5</td>\n",
       "        <td>2</td>\n",
       "        <td>3</td>\n",
       "        <td>4</td>\n",
       "        <td>6</td>\n",
       "        <td>6</td>\n",
       "    </tr>\n",
       "    <tr>\n",
       "        <td>Cynthia</td>\n",
       "        <td>28</td>\n",
       "        <td>3</td>\n",
       "        <td>1</td>\n",
       "        <td>0</td>\n",
       "        <td>4</td>\n",
       "        <td>0</td>\n",
       "        <td>2</td>\n",
       "    </tr>\n",
       "    <tr>\n",
       "        <td>Dara</td>\n",
       "        <td>35</td>\n",
       "        <td>1</td>\n",
       "        <td>0</td>\n",
       "        <td>6</td>\n",
       "        <td>6</td>\n",
       "        <td>3</td>\n",
       "        <td>4</td>\n",
       "    </tr>\n",
       "    <tr>\n",
       "        <td>Katell</td>\n",
       "        <td>23</td>\n",
       "        <td>2</td>\n",
       "        <td>4</td>\n",
       "        <td>1</td>\n",
       "        <td>0</td>\n",
       "        <td>0</td>\n",
       "        <td>1</td>\n",
       "    </tr>\n",
       "    <tr>\n",
       "        <td>Marny</td>\n",
       "        <td>28</td>\n",
       "        <td>4</td>\n",
       "        <td>0</td>\n",
       "        <td>1</td>\n",
       "        <td>0</td>\n",
       "        <td>5</td>\n",
       "        <td>3</td>\n",
       "    </tr>\n",
       "    <tr>\n",
       "        <td>Bianca</td>\n",
       "        <td>31</td>\n",
       "        <td>0</td>\n",
       "        <td>5</td>\n",
       "        <td>6</td>\n",
       "        <td>0</td>\n",
       "        <td>5</td>\n",
       "        <td>1</td>\n",
       "    </tr>\n",
       "</table>"
      ],
      "text/plain": [
       "[('Teagan', '35', '2', '2', '5', '2', '2', '0'),\n",
       " ('Sydney', '38', '0', '5', '1', '6', '4', '5'),\n",
       " ('Dawn', '20', '1', '1', '6', '0', '0', '4'),\n",
       " ('Jolie', '16', '2', '5', '2', '5', '4', '4'),\n",
       " ('Lacota', '34', '5', '2', '3', '4', '6', '6'),\n",
       " ('Cynthia', '28', '3', '1', '0', '4', '0', '2'),\n",
       " ('Dara', '35', '1', '0', '6', '6', '3', '4'),\n",
       " ('Katell', '23', '2', '4', '1', '0', '0', '1'),\n",
       " ('Marny', '28', '4', '0', '1', '0', '5', '3'),\n",
       " ('Bianca', '31', '0', '5', '6', '0', '5', '1')]"
      ]
     },
     "execution_count": 13,
     "metadata": {},
     "output_type": "execute_result"
    }
   ],
   "source": [
    "%%sql\n",
    "SELECT * \n",
    "FROM Application\n",
    "Limit(10);"
   ]
  },
  {
   "cell_type": "code",
   "execution_count": 14,
   "metadata": {},
   "outputs": [
    {
     "data": {
      "text/plain": [
       "Index(['Patient', 'Age (Yrs)', 'Partner Score', 'Self Score', 'PH Score',\n",
       "       'PY Score', 'E Score', 'S Score'],\n",
       "      dtype='object')"
      ]
     },
     "execution_count": 14,
     "metadata": {},
     "output_type": "execute_result"
    }
   ],
   "source": [
    "application.columns"
   ]
  },
  {
   "cell_type": "code",
   "execution_count": 19,
   "metadata": {},
   "outputs": [
    {
     "name": "stdout",
     "output_type": "stream",
     "text": [
      " * sqlite:///database.db\n",
      "Done.\n"
     ]
    },
    {
     "data": {
      "text/html": [
       "<table>\n",
       "    <tr>\n",
       "        <th>Patient</th>\n",
       "    </tr>\n",
       "    <tr>\n",
       "        <td>Teagan</td>\n",
       "    </tr>\n",
       "    <tr>\n",
       "        <td>Sydney</td>\n",
       "    </tr>\n",
       "    <tr>\n",
       "        <td>Dawn</td>\n",
       "    </tr>\n",
       "    <tr>\n",
       "        <td>Jolie</td>\n",
       "    </tr>\n",
       "    <tr>\n",
       "        <td>Lacota</td>\n",
       "    </tr>\n",
       "    <tr>\n",
       "        <td>Cynthia</td>\n",
       "    </tr>\n",
       "    <tr>\n",
       "        <td>Dara</td>\n",
       "    </tr>\n",
       "    <tr>\n",
       "        <td>Katell</td>\n",
       "    </tr>\n",
       "    <tr>\n",
       "        <td>Marny</td>\n",
       "    </tr>\n",
       "    <tr>\n",
       "        <td>Bianca</td>\n",
       "    </tr>\n",
       "</table>"
      ],
      "text/plain": [
       "[('Teagan',),\n",
       " ('Sydney',),\n",
       " ('Dawn',),\n",
       " ('Jolie',),\n",
       " ('Lacota',),\n",
       " ('Cynthia',),\n",
       " ('Dara',),\n",
       " ('Katell',),\n",
       " ('Marny',),\n",
       " ('Bianca',)]"
      ]
     },
     "execution_count": 19,
     "metadata": {},
     "output_type": "execute_result"
    }
   ],
   "source": [
    "%%sql\n",
    "SELECT patient\n",
    "FROM Application\n",
    "Limit(10);"
   ]
  },
  {
   "cell_type": "markdown",
   "metadata": {},
   "source": [
    "# 9. References"
   ]
  },
  {
   "cell_type": "markdown",
   "metadata": {},
   "source": [
    "Centers for Disease Control and Prevention, Physical Dating Violence Among High School Students-United States,2003 Morbidity and Mortality Weekly Report,May 19,2006,Vol.55,No.19"
   ]
  },
  {
   "cell_type": "markdown",
   "metadata": {},
   "source": [
    "\n",
    "Centers for Disease Control and Prevention.  Injury and Violence Control.  Web.  28 May 2019 <http://www.cdc.gov/injury/>\n"
   ]
  }
 ],
 "metadata": {
  "kernelspec": {
   "display_name": "Python 3",
   "language": "python",
   "name": "python3"
  },
  "language_info": {
   "codemirror_mode": {
    "name": "ipython",
    "version": 3
   },
   "file_extension": ".py",
   "mimetype": "text/x-python",
   "name": "python",
   "nbconvert_exporter": "python",
   "pygments_lexer": "ipython3",
   "version": "3.6.7"
  }
 },
 "nbformat": 4,
 "nbformat_minor": 2
}
