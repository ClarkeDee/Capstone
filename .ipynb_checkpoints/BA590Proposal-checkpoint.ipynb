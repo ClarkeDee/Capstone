{
 "cells": [
  {
   "cell_type": "markdown",
   "metadata": {},
   "source": [
    "### <em> <center>Utilizing Decision Trees to impact Victims of Domestic Violence</center> </em></strong>\n",
    "### <center>Capstone Project Proposal</center>\n",
    "### <center>BA590 Capstone: Business Analytics Applications</center>\n",
    "\n",
    "### <center>Diandre Clarke</center>\n",
    "### <center>Dolan School of Business, Fairfield University</center>\n",
    "### <center>Summer 2019</center>\n",
    "\n",
    "### <center>Faculty Advisor: Dr. Jie Tao</center>\n",
    "#### <center>Domain Subject Expert: Dr. Shasta Henderson</center>\n"
   ]
  },
  {
   "cell_type": "markdown",
   "metadata": {},
   "source": [
    "# Table of Contents\n",
    "1. [Executive Summary](#executivesummary)\n",
    "2. [Background/ Motivation](#paragraph1)\n",
    "3. [Problem Statement](#problemstatement)\n",
    "    1. [Objectives](#subparagraph1)\n",
    "4. [Data Sources](#paragraph1)\n",
    "    1. [Data Preparation](#subparagraph1)\n",
    "    2. [Software](#subparagraph2)\n",
    "5. [System Design](#paragraph1)\n",
    "  1. [Victims' Decision Tree](#subparagraph1)\n",
    "  2. [System Walkthrough](#subparagraph2)\n",
    "6. [Modeling](#paragraph1)\n",
    "  1. [SQL Queries Application](#subparagraph2)\n",
    "7. [Interpretation](#paragraph1)\n",
    "8. [Final Signoffs](#signoff)\n",
    "9. [References](#references)"
   ]
  },
  {
   "cell_type": "markdown",
   "metadata": {},
   "source": [
    "# 1. Executive Summary <a name=\"executivesummary\"></a>\n",
    "For my capstone , I applied the skills I derived from two mains course in the MSBA program: Python for Business Analytics and Business Intelligence . These two courses contributed the most to the analytical skills demonstrated in my project. The main object of this project is to build awareness of the prevalet issue of domestic violence. The Jesuit values I learned at Fairfield University allowed me to frame real life issues within my coursework. This project explores the health field and the responsibility of nurses who come face to face with victims of domestic violence on a daily basis. \n",
    "\n",
    "### Problem \n",
    "Victims who suffer non fatal injury from intimate partner violence that seek medical attention are not being properly identified or referred to the right resources. By utilizing data collected nationwide on intimate partner violence we can enhance the routine assessment for nurses so victims of domestic violence can be identified and referred/recommended to the right treatment program.\n",
    "\n",
    "\n",
    "### Methods\n",
    "There is an opportunity to utilize historical data in effort to reduce the chances of  victims being exposed to the same perpetrator and ultimately reduce  domestic violence in general.A classification system (victims in need of treatment decision tree)can aid nurses. This will allow nurses to identif more potential victims of domestic violence and connect them with the right resources for follow ups.The decision tree is a screening algorithm for female patients admitted for non-fatal injury. The decision tree first identifies whether or not a patient is a  possible victim, not victim or unknown. Based on which class the patient is identified as : Yes, No or Unknown the tree allows the nurse to identify what type of abuse the Yes Class is. Each abuse type is treated with necessary caution. In the end the decision tree provides patients the necessary referral method and information needed. \n",
    "\n",
    "### Data\n",
    "My main data sources are; Center for Disease Control, Partnership Against Domestic Violence and Prevention and Bureau Of Jusice Statistics.The Bureau of Justice Statistics' (BJS) National Crime Victimization Survey (NCVS) is the nation's primary source of information on criminal victimization. \n",
    "\n",
    "### Expected Results\n"
   ]
  },
  {
   "cell_type": "markdown",
   "metadata": {},
   "source": [
    "# 2. Background/Motivation\n",
    "As a survivor of **intimate partner violence , commonly referred to as domestic violence** every year I make it my mission to voice my experience  to others in hopes that by educating the public we become one step closer to addressing the issue of domestic violence (DV). Many victims of DV do not report it therefore the data collected on DV does not accurately represent the population as a whole. For DV victims who do report their experience, they have a better chance of receiving proper treatment. The first time I was a victim I never reported it however the second time I was a victim , the policy brought me to the Emergency room. Although I couldn't physically talk at the time due to my injury, the Nurse asked me a limited amount of questions to assess my ‘situation’. After being released from the hospital I did not receive any follow up call from the hospital, or any information for DV outreach programs. I seeked counseling on my own. Years later when I visited the doctor for a routine check up  I was asked questions such as : whether or not I’ve ever been harmed, abused, etc.  At that moment I wished someone did call me after I identified myself but I never received any form of follow up. Today nurses are considered “ natural leaders among health care professionals to address domestic violence” (futurewithoutviolence.org). By partnering with nurses there’s a better chance of reducing repeat victims , potential victims and the effect of being abused  by treating affected victims early on.\n",
    "Adolescents are most at risk for encountering domestic and/or relationship violence, “Nearly 1.5 million high school students nationwide experience physical abuse from a dating partner in a single year” (Centers for Disease Control and Prevention).\n"
   ]
  },
  {
   "cell_type": "markdown",
   "metadata": {},
   "source": [
    "# 3.Problem Statement\n",
    "\n",
    "The primary objective is to treat all female patients admitted with non-fatal injury as potential victims.  Victims are identified through machine learning. The datasets used investigate historical features on actual victims. The dataset historical values predict whether or not a patient is a potential victim .The decision tree serves as a screening algorithm  aids in assigning the more proper follow up method with each female patient.  \n",
    "\n",
    "\n",
    "## 3A. Objectives: \n",
    "1. Identify if there is a higher number of reports for a certain age group or race/ethnicity\n",
    "\n",
    "2. Victims are more likely to engage in risky sexual behavior, use harmful substances (like tobacco, alcohol, and other drugs), engage in unhealthy dieting behaviors, and experience depression and anxiety. By identify victims as early as possible one can reduce the exposure to these risks or reduce the severity.\n",
    "\n",
    "3. Currently nurses perform routine assessment but there’s no follow up for patients after assessment. Each patient needs a follow up. Depending on what kind of victim they identified as dictates the 'referral/recommendation'.\n",
    "\n",
    "\n",
    "\n"
   ]
  },
  {
   "cell_type": "markdown",
   "metadata": {},
   "source": [
    "# 4. Data Sources"
   ]
  },
  {
   "cell_type": "markdown",
   "metadata": {},
   "source": [
    "## 4A. Data Preparation"
   ]
  },
  {
   "cell_type": "markdown",
   "metadata": {},
   "source": [
    "## 4B. Software\n",
    "\n",
    "\n",
    "- JupyterLab\n",
    "- Tableau for data visualitzaion and storyboard."
   ]
  },
  {
   "cell_type": "markdown",
   "metadata": {},
   "source": [
    "# 5. System Design"
   ]
  },
  {
   "cell_type": "markdown",
   "metadata": {},
   "source": [
    "Patients are pre-screened to identify if they are a victim : Yes, No or Unknown. The questions below are asked to the patient in which they can respond : Yes (1) , No (0) or if they are unsure/refuse to answer (-1). After patient goes through each question the score is assessed at the end invidually then both sections are added together ( the Partner Score and Self Score) to determine if patient is victim = Yes, No, Unknown.\n",
    "\n",
    "### Pre Screening Questions:\n",
    "\n",
    "***(Refer to your current partner)***\n",
    "\n",
    "### **Does your partner :**\n",
    "\n",
    "- Get extremely jealous or possessive?\n",
    "- Try to control what you do or who you see?\n",
    "- Try to keep you from seeing or talking to family and friends?\n",
    "- Put you down or criticize you?\n",
    "- Threaten to hurt you?\n",
    "\n",
    "***(Refer to yourself)***\n",
    "\n",
    "### **Do You :**\n",
    "\n",
    "- Sometimes feel scared of how your partner will act?\n",
    "- Try not to do anything that would cause conflict or make your partner angry?\n",
    "- Feel like no matter what you do, your partner is never happy with you?\n",
    "- Always do what your partner wants you to do instead of what you want?\n",
    "- Stay with your partner because you are afraid of what your partner would do if you broke up?\n"
   ]
  },
  {
   "cell_type": "markdown",
   "metadata": {},
   "source": [
    "| Partner & Self Score          | Victim Identified|\n",
    "| -------------- |: ----------| \n",
    "| > 1               |     Yes    |\n",
    "|    = 0           |     No     |\n",
    "|       < 1         |    Unknown|"
   ]
  },
  {
   "cell_type": "code",
   "execution_count": 100,
   "metadata": {},
   "outputs": [
    {
     "name": "stdin",
     "output_type": "stream",
     "text": [
      "Please enter patient's Partner + Self score:  3\n"
     ]
    },
    {
     "name": "stdout",
     "output_type": "stream",
     "text": [
      "Yes, Victim Identified\n"
     ]
    }
   ],
   "source": [
    "#assign vairble v as partner and self score\n",
    "#user input int \n",
    "#print victim identified yes, no , unnknown\n",
    "v = int(input(\"Please enter patient's Partner + Self score: \"))\n",
    "if (v >= 1 ):\n",
    "    print(\"Yes, Victim Identified\")\n",
    "    \n",
    "if (v < 1 ): \n",
    "        print(\"Unknown\")\n",
    "        \n",
    "if(v == 0):\n",
    "    print(\"No Victim Identified\")"
   ]
  },
  {
   "cell_type": "markdown",
   "metadata": {},
   "source": [
    "## 5A. Victims' Decision Tree"
   ]
  },
  {
   "cell_type": "markdown",
   "metadata": {},
   "source": [
    "<img src=\"Project Development Decision Tree.png\">"
   ]
  },
  {
   "cell_type": "markdown",
   "metadata": {},
   "source": [
    "## 5B. System Walkthrough"
   ]
  },
  {
   "cell_type": "markdown",
   "metadata": {},
   "source": [
    "###  Patients' Class"
   ]
  },
  {
   "cell_type": "code",
   "execution_count": 1,
   "metadata": {},
   "outputs": [
    {
     "name": "stdin",
     "output_type": "stream",
     "text": [
      "Please enter patient's identification: No\n"
     ]
    },
    {
     "name": "stdout",
     "output_type": "stream",
     "text": [
      "Refer patient to Prevention Programs and Community Education Group\n"
     ]
    }
   ],
   "source": [
    "#assining id for patient's class. allow user to input int score\n",
    "#prints recommendation\n",
    "id = input(\"Please enter patient's identification:\")\n",
    "\n",
    "if (id == 'Yes'):\n",
    "    print(\"Follow steps below to identify what kind of victim\")\n",
    "    \n",
    "if (id == 'No'):\n",
    "    print(\"Refer patient to Prevention Programs and Community Education Group\")\n",
    "    \n",
    "if (id == 'Unknown'):\n",
    "    print(\"Refer patient to Community Education Group\")"
   ]
  },
  {
   "cell_type": "markdown",
   "metadata": {},
   "source": [
    "After patient has been indentified as **victim = Yes**. The next questions identifies exactly what kind of victim the patient is based on 4 different kinds of abuse.\n",
    "1. Physical\n",
    "2. Pyschological\n",
    "3. Economic\n",
    "4. Sexual\n",
    "\n",
    "Patient is asked to respond Yes, No or have the option to refuse answer if they are or unsure,etc.  Each response is scored accordingly :\n",
    "- Yes= 1\n",
    "- No = 1\n",
    "- Unsure/Refuse/other = -1\n",
    "\n",
    "patient's score is assessed at the end of each section to get 4 different type of scores:\n",
    "- PH Score (Physical Abuse)\n",
    "- PY Score (Pyschological Abuse)\n",
    "- E Score(Economic Abuse)\n",
    "- S Score (Sexual Abuse)"
   ]
  },
  {
   "cell_type": "markdown",
   "metadata": {},
   "source": [
    "## Abuse"
   ]
  },
  {
   "cell_type": "markdown",
   "metadata": {},
   "source": [
    "is a a pattern of physical , economic and/or pyschological/emotional violence or threat of violence used to get power and keep control over another person.\n",
    "\n",
    "<dl> \n",
    "<dt><strong>Physical Abuse</strong></dt>\n",
    "    <dd> An act where one person uses their body in order to inflict intentional harm or injury upon another person.  </dd>    \n",
    "<dt><strong>Psychological Abuse</strong></dt>\n",
    "    <dd>Insulting the victim, lowering hher self-esteem, calling her names.</dd>\n",
    "<dt><strong>Economic Abuse</strong></dt>\n",
    "<dd>Trying to keep the victim from getting or keeping a job. Making her ask for money. GIving her an allowance. Taking her money.</dd>\n",
    "<dt><strong>Sexual Abuse</strong></dt>\n",
    "<dd>Forcing sxual activity. Physically attacking the sexual parts of her body. Treating her like a sex object.</dd>\n",
    "\n",
    "    \n",
    "</dl>"
   ]
  },
  {
   "cell_type": "markdown",
   "metadata": {},
   "source": [
    "The following statements pertain to the behavior of ones partner in the current relationship or previous relationshp. "
   ]
  },
  {
   "cell_type": "markdown",
   "metadata": {},
   "source": [
    "### Physical Abuse\n",
    "- Throw objects at you\n",
    "- Push, hit, strangle,kick bite , cut, burn  spit at you\n",
    "- Hold you down to prevent you from leaving a room\n",
    "- Endanger you by driving wildly or recklessly\n",
    "- Abandon you in dangerous places\n",
    "- Threaten you with  a weapon"
   ]
  },
  {
   "cell_type": "markdown",
   "metadata": {},
   "source": [
    "| PH Score         | Victim Identified|\n",
    "| -------------- |: ----------| \n",
    "| >= 2               |     Yes    |\n",
    "|    = 0           |     No     |\n",
    "|       < 2         |    Unknown|"
   ]
  },
  {
   "cell_type": "markdown",
   "metadata": {},
   "source": [
    "### Psychological Abuse\n",
    "- Ignore your feelings\n",
    "- Make fun of your beliefs\n",
    "- Call you names like \"bitch\", \"slut\", \"whore\", \"cunt\"\n",
    "- Tell you that you are, \"stupid\", \"dumb\", \"fat\", or \"ugly\"\n",
    "- Isolate you from friends and family\n",
    "- Constantly crizticing you and the way you do things"
   ]
  },
  {
   "cell_type": "markdown",
   "metadata": {},
   "source": [
    "| PY Score         | Victim Identified|\n",
    "| -------------- |: ----------| \n",
    "| >= 2               |     Yes    |\n",
    "|    = 0           |     No     |\n",
    "|       < 2         |    Unknown|"
   ]
  },
  {
   "cell_type": "markdown",
   "metadata": {},
   "source": [
    "## Economic Abuse\n",
    "- Refuse to give you money for food or clothing\n",
    "- Make you ask for money\n",
    "- Force you to hand over money that you earn\n",
    "- Do not give you access to a checking account\n",
    "- Does not involve you in making decisions about money\n",
    "- Make you spend all your money while she/he doesnt spend his/hers"
   ]
  },
  {
   "cell_type": "markdown",
   "metadata": {},
   "source": [
    "| E Score         | Victim Identified|\n",
    "| -------------- |: ----------| \n",
    "| >= 2               |     Yes    |\n",
    "|    = 0           |     No     |\n",
    "|       < 2         |    Unknown|"
   ]
  },
  {
   "cell_type": "markdown",
   "metadata": {},
   "source": [
    "## Sexual Abuse\n",
    "- Treat you as a sex object\n",
    "- Criticize the way you act during sex\n",
    "- Force you to have sex when you do not want to\n",
    "- Force you to have sex with other people\n",
    "- Insisting on unwanted or uncomfortable touching\n",
    "- Accusing you of having sex with other women or men"
   ]
  },
  {
   "cell_type": "markdown",
   "metadata": {},
   "source": [
    "| S Score         | Victim Identified|\n",
    "| -------------- |: ----------| \n",
    "| >= 2               |     Yes    |\n",
    "|    = 0           |     No     |\n",
    "|       < 2         |    Unknown|"
   ]
  },
  {
   "cell_type": "markdown",
   "metadata": {},
   "source": [
    "# 6. Modeling"
   ]
  },
  {
   "cell_type": "code",
   "execution_count": 9,
   "metadata": {},
   "outputs": [],
   "source": [
    "#importing nesc modules for modeling below\n",
    "import numpy as np\n",
    "import pandas as pd\n",
    "from sklearn.tree import DecisionTreeClassifier\n",
    "from sklearn.model_selection import train_test_split\n",
    "from sklearn import metrics #Import scikit-learn metrics module for accuracy calculation"
   ]
  },
  {
   "cell_type": "markdown",
   "metadata": {},
   "source": [
    "## Identifying Type of Abuse"
   ]
  },
  {
   "cell_type": "markdown",
   "metadata": {},
   "source": [
    "### Physical Abuse"
   ]
  },
  {
   "cell_type": "code",
   "execution_count": null,
   "metadata": {},
   "outputs": [],
   "source": [
    "#assigning ph for phy score. \n",
    "#user input int , prints victim identified yes, no , unnknown\n",
    "ph = int(input(\"Please enter patient's PH score: \"))\n",
    "if (ph > 2):\n",
    "    print(\"Yes, Victim Identified\")\n",
    "    \n",
    "if (ph < 2): \n",
    "        print(\"Unknown\")\n",
    "        \n",
    "if(ph == 0):\n",
    "    print(\"No Victim Identified\")\n",
    "       \n",
    "        "
   ]
  },
  {
   "cell_type": "markdown",
   "metadata": {},
   "source": [
    "### Pyschological Abuse"
   ]
  },
  {
   "cell_type": "code",
   "execution_count": 104,
   "metadata": {},
   "outputs": [
    {
     "name": "stdin",
     "output_type": "stream",
     "text": [
      "Please enter patient's PY score:  0\n"
     ]
    },
    {
     "name": "stdout",
     "output_type": "stream",
     "text": [
      "Unknown\n",
      "No Victim Identified\n"
     ]
    }
   ],
   "source": [
    "#assign variable py for py score\n",
    "#user input int , prints victim identified yes, no , unnknown\n",
    "py = int(input(\"Please enter patient's PY score: \"))\n",
    "if (py > 2):\n",
    "    print(\"Yes, Victim Identified\")\n",
    "    \n",
    "if (py < 2): \n",
    "        print(\"Unknown\")\n",
    "        \n",
    "if(py == 0):\n",
    "    print(\"No Victim Identified\")"
   ]
  },
  {
   "cell_type": "markdown",
   "metadata": {},
   "source": [
    "### Economic Abuse"
   ]
  },
  {
   "cell_type": "code",
   "execution_count": 106,
   "metadata": {},
   "outputs": [
    {
     "name": "stdin",
     "output_type": "stream",
     "text": [
      "Please enter patient's E score:  2\n"
     ]
    }
   ],
   "source": [
    "#assign vairbale e for e score \n",
    "#user input int , prints victim identified yes, no , unnknown\n",
    "e = int(input(\"Please enter patient's E score: \"))\n",
    "if (e > 2):\n",
    "    print(\"Yes, Victim Identified\")\n",
    "    \n",
    "if (e < 2): \n",
    "        print(\"Unknown\")\n",
    "        \n",
    "if(e == 0):\n",
    "    print(\"No Victim Identified\")"
   ]
  },
  {
   "cell_type": "markdown",
   "metadata": {},
   "source": [
    "### Sexual Abuse"
   ]
  },
  {
   "cell_type": "code",
   "execution_count": null,
   "metadata": {},
   "outputs": [],
   "source": [
    "#assiging s for s score\n",
    "#user input int , prints victim identified yes, no , unnknown\n",
    "s = int(input(\"Please enter patient's S score: \"))\n",
    "if (s > 2):\n",
    "    print(\"Yes, Victim Identified\")\n",
    "    \n",
    "if (s < 2): \n",
    "        print(\"Unknown\")\n",
    "        \n",
    "if(s == 0):\n",
    "    print(\"No Victim Identified\")"
   ]
  },
  {
   "cell_type": "markdown",
   "metadata": {},
   "source": [
    "## Identifying Best service for patient"
   ]
  },
  {
   "cell_type": "code",
   "execution_count": null,
   "metadata": {},
   "outputs": [],
   "source": [
    "#using y as target variable. allow user to input str abuse type idenitified earlier\n",
    "#str input , prints recommended way to refer patient/follow up\n",
    "y = input(\"Please enter victims' identified abuse type: \")\n",
    "\n",
    "if (y == 'Physical'):\n",
    "    print(\"Safe House Option and Authorities\")\n",
    "    \n",
    "if (y == 'Pyschological'):\n",
    "    print(\"Refer patient to Prevention Programs and Community Education Group\")\n",
    "    \n",
    "if (y == 'Economic'):\n",
    "    print(\"Refer patient to Community Education Group\")\n",
    "\n",
    "if (y == 'Sexual'):\n",
    "    print(\"Refer patient to Legal and Medical Services\")"
   ]
  },
  {
   "cell_type": "markdown",
   "metadata": {},
   "source": [
    "## 6A. Application ( with SQL Queries)"
   ]
  },
  {
   "cell_type": "code",
   "execution_count": 3,
   "metadata": {},
   "outputs": [],
   "source": [
    "%reload_ext sql"
   ]
  },
  {
   "cell_type": "code",
   "execution_count": 4,
   "metadata": {},
   "outputs": [
    {
     "data": {
      "text/plain": [
       "'Connected: @database.db'"
      ]
     },
     "execution_count": 4,
     "metadata": {},
     "output_type": "execute_result"
    }
   ],
   "source": [
    "%sql sqlite:///database.db"
   ]
  },
  {
   "cell_type": "code",
   "execution_count": 5,
   "metadata": {},
   "outputs": [
    {
     "name": "stdout",
     "output_type": "stream",
     "text": [
      " * sqlite:///database.db\n",
      "Done.\n"
     ]
    }
   ],
   "source": [
    "a = %sql SELECT * FROM Application\n",
    "application = a.DataFrame()"
   ]
  },
  {
   "cell_type": "code",
   "execution_count": 84,
   "metadata": {},
   "outputs": [
    {
     "name": "stdout",
     "output_type": "stream",
     "text": [
      " * sqlite:///database.db\n",
      "Done.\n"
     ]
    },
    {
     "data": {
      "text/html": [
       "<table>\n",
       "    <tr>\n",
       "        <th>Patient</th>\n",
       "        <th>Age (Yrs)</th>\n",
       "        <th>Partner Score</th>\n",
       "        <th>Self Score</th>\n",
       "        <th>PH Score</th>\n",
       "        <th>PY Score</th>\n",
       "        <th>E Score</th>\n",
       "        <th>S Score</th>\n",
       "    </tr>\n",
       "    <tr>\n",
       "        <td>Teagan</td>\n",
       "        <td>35</td>\n",
       "        <td>2</td>\n",
       "        <td>2</td>\n",
       "        <td>5</td>\n",
       "        <td>2</td>\n",
       "        <td>2</td>\n",
       "        <td>0</td>\n",
       "    </tr>\n",
       "    <tr>\n",
       "        <td>Sydney</td>\n",
       "        <td>38</td>\n",
       "        <td>0</td>\n",
       "        <td>5</td>\n",
       "        <td>1</td>\n",
       "        <td>6</td>\n",
       "        <td>4</td>\n",
       "        <td>5</td>\n",
       "    </tr>\n",
       "    <tr>\n",
       "        <td>Dawn</td>\n",
       "        <td>20</td>\n",
       "        <td>1</td>\n",
       "        <td>1</td>\n",
       "        <td>6</td>\n",
       "        <td>0</td>\n",
       "        <td>0</td>\n",
       "        <td>4</td>\n",
       "    </tr>\n",
       "    <tr>\n",
       "        <td>Jolie</td>\n",
       "        <td>16</td>\n",
       "        <td>2</td>\n",
       "        <td>5</td>\n",
       "        <td>2</td>\n",
       "        <td>5</td>\n",
       "        <td>4</td>\n",
       "        <td>4</td>\n",
       "    </tr>\n",
       "    <tr>\n",
       "        <td>Lacota</td>\n",
       "        <td>34</td>\n",
       "        <td>5</td>\n",
       "        <td>2</td>\n",
       "        <td>3</td>\n",
       "        <td>4</td>\n",
       "        <td>6</td>\n",
       "        <td>6</td>\n",
       "    </tr>\n",
       "    <tr>\n",
       "        <td>Cynthia</td>\n",
       "        <td>28</td>\n",
       "        <td>3</td>\n",
       "        <td>1</td>\n",
       "        <td>0</td>\n",
       "        <td>4</td>\n",
       "        <td>0</td>\n",
       "        <td>2</td>\n",
       "    </tr>\n",
       "    <tr>\n",
       "        <td>Dara</td>\n",
       "        <td>35</td>\n",
       "        <td>1</td>\n",
       "        <td>0</td>\n",
       "        <td>6</td>\n",
       "        <td>6</td>\n",
       "        <td>3</td>\n",
       "        <td>4</td>\n",
       "    </tr>\n",
       "    <tr>\n",
       "        <td>Katell</td>\n",
       "        <td>23</td>\n",
       "        <td>2</td>\n",
       "        <td>4</td>\n",
       "        <td>1</td>\n",
       "        <td>0</td>\n",
       "        <td>0</td>\n",
       "        <td>1</td>\n",
       "    </tr>\n",
       "    <tr>\n",
       "        <td>Marny</td>\n",
       "        <td>28</td>\n",
       "        <td>4</td>\n",
       "        <td>0</td>\n",
       "        <td>1</td>\n",
       "        <td>0</td>\n",
       "        <td>5</td>\n",
       "        <td>3</td>\n",
       "    </tr>\n",
       "    <tr>\n",
       "        <td>Bianca</td>\n",
       "        <td>31</td>\n",
       "        <td>0</td>\n",
       "        <td>5</td>\n",
       "        <td>6</td>\n",
       "        <td>0</td>\n",
       "        <td>5</td>\n",
       "        <td>1</td>\n",
       "    </tr>\n",
       "</table>"
      ],
      "text/plain": [
       "[('Teagan', '35', '2', '2', '5', '2', '2', '0'),\n",
       " ('Sydney', '38', '0', '5', '1', '6', '4', '5'),\n",
       " ('Dawn', '20', '1', '1', '6', '0', '0', '4'),\n",
       " ('Jolie', '16', '2', '5', '2', '5', '4', '4'),\n",
       " ('Lacota', '34', '5', '2', '3', '4', '6', '6'),\n",
       " ('Cynthia', '28', '3', '1', '0', '4', '0', '2'),\n",
       " ('Dara', '35', '1', '0', '6', '6', '3', '4'),\n",
       " ('Katell', '23', '2', '4', '1', '0', '0', '1'),\n",
       " ('Marny', '28', '4', '0', '1', '0', '5', '3'),\n",
       " ('Bianca', '31', '0', '5', '6', '0', '5', '1')]"
      ]
     },
     "execution_count": 84,
     "metadata": {},
     "output_type": "execute_result"
    }
   ],
   "source": [
    "%%sql\n",
    "SELECT * \n",
    "FROM Application\n",
    "Limit(10);"
   ]
  },
  {
   "cell_type": "code",
   "execution_count": 123,
   "metadata": {},
   "outputs": [
    {
     "data": {
      "text/plain": [
       "Index(['Patient', 'Age (Yrs)', 'Partner Score', 'Self Score', 'PH Score',\n",
       "       'PY Score', 'E Score', 'S Score'],\n",
       "      dtype='object')"
      ]
     },
     "execution_count": 123,
     "metadata": {},
     "output_type": "execute_result"
    }
   ],
   "source": [
    "application.columns"
   ]
  },
  {
   "cell_type": "code",
   "execution_count": null,
   "metadata": {},
   "outputs": [],
   "source": []
  },
  {
   "cell_type": "code",
   "execution_count": null,
   "metadata": {},
   "outputs": [],
   "source": []
  },
  {
   "cell_type": "code",
   "execution_count": null,
   "metadata": {},
   "outputs": [],
   "source": []
  },
  {
   "cell_type": "code",
   "execution_count": null,
   "metadata": {},
   "outputs": [],
   "source": []
  },
  {
   "cell_type": "code",
   "execution_count": null,
   "metadata": {},
   "outputs": [],
   "source": []
  },
  {
   "cell_type": "markdown",
   "metadata": {},
   "source": [
    "# 7. Interpretation"
   ]
  },
  {
   "cell_type": "code",
   "execution_count": null,
   "metadata": {},
   "outputs": [],
   "source": []
  },
  {
   "cell_type": "markdown",
   "metadata": {},
   "source": [
    "# 8. Final SignOffs"
   ]
  },
  {
   "cell_type": "code",
   "execution_count": null,
   "metadata": {},
   "outputs": [],
   "source": []
  },
  {
   "cell_type": "markdown",
   "metadata": {},
   "source": [
    "# 9. References"
   ]
  },
  {
   "cell_type": "code",
   "execution_count": null,
   "metadata": {},
   "outputs": [],
   "source": []
  },
  {
   "cell_type": "code",
   "execution_count": null,
   "metadata": {},
   "outputs": [],
   "source": []
  },
  {
   "cell_type": "code",
   "execution_count": null,
   "metadata": {},
   "outputs": [],
   "source": []
  }
 ],
 "metadata": {
  "kernelspec": {
   "display_name": "Python 3",
   "language": "python",
   "name": "python3"
  },
  "language_info": {
   "codemirror_mode": {
    "name": "ipython",
    "version": 3
   },
   "file_extension": ".py",
   "mimetype": "text/x-python",
   "name": "python",
   "nbconvert_exporter": "python",
   "pygments_lexer": "ipython3",
   "version": "3.6.7"
  }
 },
 "nbformat": 4,
 "nbformat_minor": 2
}
