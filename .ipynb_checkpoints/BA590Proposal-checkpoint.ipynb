{
 "cells": [
  {
   "cell_type": "markdown",
   "metadata": {},
   "source": [
    "### <em> <center>Utilizing Decision Trees to impact Victims of Domestic Violence</center> </em></strong>\n",
    "### <center>Capstone Project Proposal</center>\n",
    "### <center>BA590 Capstone: Business Analytics Applications</center>\n",
    "\n",
    "### <center>Diandre Clarke</center>\n",
    "### <center>Dolan School of Business, Fairfield University</center>\n",
    "### <center>Summer 2019</center>\n",
    "\n",
    "### <center>Faculty Advisor: Dr. Jie Tao</center>\n",
    "#### <center>Domain Subject Expert:</center>\n"
   ]
  },
  {
   "cell_type": "markdown",
   "metadata": {},
   "source": [
    "# Table of contents\n",
    "1. [Executive Summary](#executivesummary)\n",
    "2. [Background/ Motivation](#paragraph1)\n",
    "3. [Problem Statement](#problemstatement)\n",
    "    1. [Objectives](#subparagraph1)\n",
    "3. [Data Collection](#paragraph2)\n",
    "4. [System Design](#paragraph3)\n",
    "  1. [Modeling](#subparagraph2)\n",
    "5. [Interpretation](#paragraph4)"
   ]
  },
  {
   "cell_type": "markdown",
   "metadata": {},
   "source": [
    "## Executive Summary <a name=\"executivesummary\"></a>\n",
    "For my capstone , I applied the skills I derived from two mains course in the MSBA program: Python for Business Analytics and Business Intelligence . These two courses contributed the most to the analytical skills demonstrated in my project. The main object of this project is to build awareness of the prevalet issue of domestic violence. The Jesuit values I learned at Fairfield University allowed me to frame real life issues within my coursework. This project explores the health field and the responsibility of nurses who come face to face with victims of domestic violence on a daily basis. \n",
    "\n",
    "### Problem \n",
    "Victims who suffer non fatal injury from intimate partner violence that seek medical attention are not being properly identified or referred to the right resources. By utilizing data collected nationwide on intimate partner violence we can enhance the routine assessment for nurses so victims of domestic violence can be identified and referred/recommended to the right treatment program.\n",
    "\n",
    "\n",
    "### Methods\n",
    "There is an opportunity to utilize historical data in effort to reduce the chances of  victims being exposed to the same perpetrator and ultimately reduce  domestic violence in general.A classification system (victims in need of treatment decision tree)in place to aid nurses in better identifying victims of domestic violence for thorough follow ups for victims.The decision tree will serve as a screening algorithm for nurses with female patients admitted for non-fatal injury. The decision tree identifies patients as possibly being victims, not victim or non specified. Based on which class the patient is identified as for ec; yes , then the tree allows the nurse to identify what form of abuse so we may proceed with necessary caution. In the end the decision tree provides patients the necessary referral method and information needed. \n",
    "\n",
    "### Data\n",
    "My main data sources are; Center for Disease Control, Partnership Against Domestic Violence and Prevention and Bureau Of Jusice Statistics.The Bureau of Justice Statistics' (BJS) National Crime Victimization Survey (NCVS) is the nation's primary source of information on criminal victimization. \n",
    "\n",
    "### Expected Results\n",
    " "
   ]
  },
  {
   "cell_type": "markdown",
   "metadata": {},
   "source": [
    "## Background/Motivation\n",
    "As a survivor of **intimate partner violence , commonly referred to as domestic violence** every year I make it my mission to voice my experience  to others in hopes that by educating the public we become one step closer to addressing the issue of domestic violence (DV). Many victims of DV do not report it therefore the data collected on DV does not accurately represent the population as a whole. For DV victims who do report their experience, they have a better chance of receiving proper treatment. The first time I was a victim I never reported it however the second time I was a victim , the policy brought me to the Emergency room. Although I couldn't physically talk at the time due to my injury, the Nurse asked me a limited amount of questions to assess my ‘situation’. After being released from the hospital I did not receive any follow up call from the hospital, or any information for DV outreach programs. I seeked counseling on my own. Years later when I visited the doctor for a routine check up  I was asked questions such as : whether or not I’ve ever been harmed, abused, etc.  At that moment I wished someone did call me after I identified myself but I never received any form of follow up. Today nurses are considered “ natural leaders among health care professionals to address domestic violence” (futurewithoutviolence.org). By partnering with nurses there’s a better chance of reducing repeat victims , potential victims and the effect of being abused  by treating affected victims early on.\n",
    "Adolescents are most at risk for encountering domestic and/or relationship violence, “Nearly 1.5 million high school students nationwide experience physical abuse from a dating partner in a single year” (Centers for Disease Control and Prevention).\n"
   ]
  },
  {
   "cell_type": "markdown",
   "metadata": {},
   "source": [
    "## Problem Statement\n",
    "\n",
    "The primary objective is to treat all female patients admitted with non-fatal injury as potential victims.  Victims are identified through machine learning. The datasets used investigate historical features on actual victims. The dataset historical values predict whether or not a patient is a potential victim .The decision tree serves as a screening algorithm  aids in assigning the more proper follow up method with each female patient.  \n",
    "\n",
    "\n",
    "### Objectives: \n",
    "- Currently nurses perform routine assessment but there’s no follow up for patients after assessment. Each patient needs a follow up depedning on what kind of victim they identified as dictates the 'referral/recommendation'.\n",
    "- Victims are more likely to engage in risky sexual behavior, use harmful substances (like tobacco, alcohol, and other drugs), engage in unhealthy dieting behaviors, and experience depression and anxiety. BY identify victims as early as possible one can reduce the exposure to these risks or reduce the severity.\n",
    "\n"
   ]
  },
  {
   "cell_type": "markdown",
   "metadata": {},
   "source": [
    "<img src=\"Project Development Decision Tree.png\">"
   ]
  },
  {
   "cell_type": "markdown",
   "metadata": {},
   "source": [
    "## System Design"
   ]
  },
  {
   "cell_type": "markdown",
   "metadata": {},
   "source": [
    "Patients are pre-screened to identify if they are a victim : Yes, No or Unknown. The questions below are asked to the patient in which they can respond : Yes (1) , No (0) or if they are unsure/refuse to answer (.5). After patient goes through each question the score is assessed at the end invidually then both sections are added together ( the Partner Score and Self Score) to determine if patient is victim = Yes, No, Unknown.\n",
    "\n",
    "## Pre Screening Questions:\n",
    "\n",
    "\n",
    "**Does your partner :**\n",
    "\n",
    "- Get extremely jealous or possessive?\n",
    "- Try to control what you do or who you see?\n",
    "- Try to keep you from seeing or talking to family and friends?\n",
    "- Put you down or criticize you?\n",
    "- Threaten to hurt you?\n",
    "\n",
    "\n",
    "**Do you :**\n",
    "\n",
    "- Sometimes feel scared of how your partner will act?\n",
    "- Try not to do anything that would cause conflict or make your partner angry?\n",
    "- Feel like no matter what you do, your partner is never happy with you?\n",
    "- Always do what your partner wants you to do instead of what you want?\n",
    "- Stay with your partner b/c you are afraid of what your partner would do if you broke up?\n"
   ]
  },
  {
   "cell_type": "markdown",
   "metadata": {},
   "source": [
    "| Partner & Self Score          | Victim Identified|\n",
    "| -------------- |: ----------| \n",
    "| > 1               |     Yes    |\n",
    "|    = 0           |     No     |\n",
    "|       < 1         |    Unknown|"
   ]
  },
  {
   "cell_type": "code",
   "execution_count": null,
   "metadata": {},
   "outputs": [],
   "source": [
    "v = int(input(\"Please enter patient's Partner & Self score: \"))\n",
    "if (v > 2):\n",
    "    print(\"Yes, Victim Identified\")\n",
    "    \n",
    "if (v < 2): \n",
    "        print(\"Unknown\")\n",
    "        \n",
    "if(v == 0):\n",
    "    print(\"No Victim Identified\")"
   ]
  },
  {
   "cell_type": "markdown",
   "metadata": {},
   "source": [
    "After patient has been indentified as victim = Yes. The next questions identifies exactly what kind of victim the patient is based on 4 different kinds of abuse.\n",
    "1. Physical\n",
    "2. Pyschological\n",
    "3. Economic\n",
    "4. Sexual\n",
    "\n",
    "Patient is asked to respond Yes, No or have the option to refuse answer if they are or unsure,etc.  Each response is scored accordingly :\n",
    "- Yes= 1\n",
    "- No = 1\n",
    "- Unsure/Refuse/other = .5\n",
    "\n",
    "patient's score is assessed at the end of each section to get 4 different type of scores:\n",
    "- PH Score (Physical Abuse)\n",
    "- PY Score (Pyschological Abuse)\n",
    "- E Score(Economic Abuse)\n",
    "- S Score (Sexual Abuse)"
   ]
  },
  {
   "cell_type": "markdown",
   "metadata": {},
   "source": [
    "## Abuse"
   ]
  },
  {
   "cell_type": "markdown",
   "metadata": {},
   "source": [
    "is a a pattern of physical , economic and/or pyschological/emotional violence or threat of violence used to get power and keep control over another person.\n",
    "\n",
    "<dl> \n",
    "<dt><strong>Physical Abuse</strong></dt>\n",
    "    <dd> testng </dd>    \n",
    "<dt><strong>Pyschological Abuse</strong></dt>\n",
    "    <dd>Insulting the victim, lowering hher self-esteem, calling her names.</dd>\n",
    "<dt><strong>Economic Abuse</strong></dt>\n",
    "<dd>Trying to keep the victim from getting or keeping a job. Making her ask for money. GIving her an allowance. Taking her money.</dd>\n",
    "<dt><strong>Sexual Abuse</strong></dt>\n",
    "<dd>Forcing sxual activity. Physically attacking the sexual parts of her body. Treating her like a sex object.</dd>\n",
    "\n",
    "    \n",
    "</dl>"
   ]
  },
  {
   "cell_type": "markdown",
   "metadata": {},
   "source": [
    "The following statements pertain to the behavior of ones partner in the current relationship or previous relationshp. "
   ]
  },
  {
   "cell_type": "markdown",
   "metadata": {},
   "source": [
    "### Physical Abuse\n",
    "- Throw objects at you\n",
    "- Push, hit, strangle,kick bite , cut, burn  spit at you\n",
    "- Hold you down to prevent you from leaving a room\n",
    "- Endanger you by driving wildly or recklessly\n",
    "- Abandon you in dangerous places\n",
    "- Threaten you with  a weapon"
   ]
  },
  {
   "cell_type": "markdown",
   "metadata": {},
   "source": [
    "| PH Score         | Victim Identified|\n",
    "| -------------- |: ----------| \n",
    "| > 2               |     Yes    |\n",
    "|    = 0           |     No     |\n",
    "|       < 2         |    Unknown|"
   ]
  },
  {
   "cell_type": "markdown",
   "metadata": {},
   "source": [
    "### Pyschological Abuse\n",
    "- Ignore your feelings\n",
    "- Make fun of your beliefs\n",
    "- Call you names like \"bitch\", \"slut\", \"whore\", \"cunt\"\n",
    "- Tell you that you are, \"stupid\", \"dumb\", \"fat\", or \"ugly\"\n",
    "- Isolate you from friends and family\n",
    "- Constantly crizticing you and the way you do things"
   ]
  },
  {
   "cell_type": "markdown",
   "metadata": {},
   "source": [
    "| PY Score         | Victim Identified|\n",
    "| -------------- |: ----------| \n",
    "| > 2               |     Yes    |\n",
    "|    = 0           |     No     |\n",
    "|       < 2         |    Unknown|"
   ]
  },
  {
   "cell_type": "markdown",
   "metadata": {},
   "source": [
    "## Economic Abuse\n",
    "- Refuse to give you money for food or clothing\n",
    "- Make you ask for money\n",
    "- Force you to hand over money that you earn\n",
    "- Do not give you access to a checking account\n",
    "- Does not involve you in making decisions about money\n",
    "- Make you spend all your money while she/he doesnt spend his/hers"
   ]
  },
  {
   "cell_type": "markdown",
   "metadata": {},
   "source": [
    "| E Score         | Victim Identified|\n",
    "| -------------- |: ----------| \n",
    "| > 2               |     Yes    |\n",
    "|    = 0           |     No     |\n",
    "|       < 2         |    Unknown|"
   ]
  },
  {
   "cell_type": "markdown",
   "metadata": {},
   "source": [
    "## Sexual Abuse\n",
    "- Treat you as a sex object\n",
    "- Criticize the way you act during sex\n",
    "- Force you to have sex when you do not want to\n",
    "- Force you to have sex with other people\n",
    "- Insisting on unwanted or uncomfortable touching\n",
    "- Accusing you of having sex with other women or men"
   ]
  },
  {
   "cell_type": "markdown",
   "metadata": {},
   "source": [
    "| S Score         | Victim Identified|\n",
    "| -------------- |: ----------| \n",
    "| > 2               |     Yes    |\n",
    "|    = 0           |     No     |\n",
    "|       < 2         |    Unknown|"
   ]
  },
  {
   "cell_type": "markdown",
   "metadata": {},
   "source": [
    "## Modeling"
   ]
  },
  {
   "cell_type": "code",
   "execution_count": 1,
   "metadata": {},
   "outputs": [],
   "source": [
    "import numpy as np\n",
    "import pandas as pd"
   ]
  },
  {
   "cell_type": "code",
   "execution_count": 18,
   "metadata": {},
   "outputs": [
    {
     "name": "stdin",
     "output_type": "stream",
     "text": [
      "Please enter patient's PH score:  0\n"
     ]
    },
    {
     "name": "stdout",
     "output_type": "stream",
     "text": [
      "Unknown\n",
      "No Victim Identified\n"
     ]
    }
   ],
   "source": [
    "ph = int(input(\"Please enter patient's PH score: \"))\n",
    "if (ph > 2):\n",
    "    print(\"Yes, Victim Identified\")\n",
    "    \n",
    "if (ph < 2): \n",
    "        print(\"Unknown\")\n",
    "        \n",
    "if(ph == 0):\n",
    "    print(\"No Victim Identified\")\n",
    "       \n",
    "        "
   ]
  },
  {
   "cell_type": "code",
   "execution_count": null,
   "metadata": {},
   "outputs": [],
   "source": [
    "py = int(input(\"Please enter patient's PY score: \"))\n",
    "if (py > 2):\n",
    "    print(\"Yes, Victim Identified\")\n",
    "    \n",
    "if (py < 2): \n",
    "        print(\"Unknown\")\n",
    "        \n",
    "if(py == 0):\n",
    "    print(\"No Victim Identified\")"
   ]
  },
  {
   "cell_type": "code",
   "execution_count": null,
   "metadata": {},
   "outputs": [],
   "source": [
    "e = int(input(\"Please enter patient's E score: \"))\n",
    "if (e > 2):\n",
    "    print(\"Yes, Victim Identified\")\n",
    "    \n",
    "if (e < 2): \n",
    "        print(\"Unknown\")\n",
    "        \n",
    "if(e == 0):\n",
    "    print(\"No Victim Identified\")"
   ]
  },
  {
   "cell_type": "code",
   "execution_count": null,
   "metadata": {},
   "outputs": [],
   "source": [
    "s = int(input(\"Please enter patient's S score: \"))\n",
    "if (s > 2):\n",
    "    print(\"Yes, Victim Identified\")\n",
    "    \n",
    "if (s < 2): \n",
    "        print(\"Unknown\")\n",
    "        \n",
    "if(s == 0):\n",
    "    print(\"No Victim Identified\")"
   ]
  }
 ],
 "metadata": {
  "kernelspec": {
   "display_name": "Python 3",
   "language": "python",
   "name": "python3"
  },
  "language_info": {
   "codemirror_mode": {
    "name": "ipython",
    "version": 3
   },
   "file_extension": ".py",
   "mimetype": "text/x-python",
   "name": "python",
   "nbconvert_exporter": "python",
   "pygments_lexer": "ipython3",
   "version": "3.6.7"
  }
 },
 "nbformat": 4,
 "nbformat_minor": 2
}
